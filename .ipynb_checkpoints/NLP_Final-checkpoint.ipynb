{
 "cells": [
  {
   "cell_type": "code",
   "execution_count": 1,
   "id": "6a4b09d4",
   "metadata": {},
   "outputs": [],
   "source": [
    "import requests\n",
    "import json\n",
    "import numpy as np\n",
    "import pandas as pd\n",
    "import nltk \n",
    "import matplotlib\n",
    "from nltk.tokenize import sent_tokenize, word_tokenize\n",
    "from nltk.corpus import stopwords\n",
    "from string import punctuation\n",
    "import re\n",
    "import numpy as np\n",
    "from nltk.tokenize import RegexpTokenizer\n",
    "from nltk.stem import WordNetLemmatizer"
   ]
  },
  {
   "cell_type": "code",
   "execution_count": 2,
   "id": "fa6f92e6",
   "metadata": {},
   "outputs": [
    {
     "name": "stdout",
     "output_type": "stream",
     "text": [
      "Requirement already satisfied: rake-nltk in c:\\users\\lenovo\\anaconda3\\lib\\site-packages (1.0.6)\n",
      "Requirement already satisfied: nltk<4.0.0,>=3.6.2 in c:\\users\\lenovo\\anaconda3\\lib\\site-packages (from rake-nltk) (3.7)\n",
      "Requirement already satisfied: regex>=2021.8.3 in c:\\users\\lenovo\\anaconda3\\lib\\site-packages (from nltk<4.0.0,>=3.6.2->rake-nltk) (2022.3.15)\n",
      "Requirement already satisfied: click in c:\\users\\lenovo\\anaconda3\\lib\\site-packages (from nltk<4.0.0,>=3.6.2->rake-nltk) (8.0.4)\n",
      "Requirement already satisfied: joblib in c:\\users\\lenovo\\anaconda3\\lib\\site-packages (from nltk<4.0.0,>=3.6.2->rake-nltk) (1.1.0)\n",
      "Requirement already satisfied: tqdm in c:\\users\\lenovo\\anaconda3\\lib\\site-packages (from nltk<4.0.0,>=3.6.2->rake-nltk) (4.64.0)\n",
      "Requirement already satisfied: colorama in c:\\users\\lenovo\\anaconda3\\lib\\site-packages (from click->nltk<4.0.0,>=3.6.2->rake-nltk) (0.4.4)\n",
      "Note: you may need to restart the kernel to use updated packages.\n"
     ]
    }
   ],
   "source": [
    "pip install rake-nltk"
   ]
  },
  {
   "cell_type": "code",
   "execution_count": 3,
   "id": "cf47a763",
   "metadata": {},
   "outputs": [],
   "source": [
    "from rake_nltk import Rake "
   ]
  },
  {
   "cell_type": "code",
   "execution_count": 4,
   "id": "631f19a3",
   "metadata": {},
   "outputs": [],
   "source": [
    "df = pd.read_csv('Bangladesh_Post.csv')"
   ]
  },
  {
   "cell_type": "code",
   "execution_count": 5,
   "id": "525d4a09",
   "metadata": {},
   "outputs": [
    {
     "data": {
      "text/html": [
       "<div>\n",
       "<style scoped>\n",
       "    .dataframe tbody tr th:only-of-type {\n",
       "        vertical-align: middle;\n",
       "    }\n",
       "\n",
       "    .dataframe tbody tr th {\n",
       "        vertical-align: top;\n",
       "    }\n",
       "\n",
       "    .dataframe thead th {\n",
       "        text-align: right;\n",
       "    }\n",
       "</style>\n",
       "<table border=\"1\" class=\"dataframe\">\n",
       "  <thead>\n",
       "    <tr style=\"text-align: right;\">\n",
       "      <th></th>\n",
       "      <th>Serial</th>\n",
       "      <th>Headline</th>\n",
       "      <th>News</th>\n",
       "      <th>Date</th>\n",
       "      <th>Publisher</th>\n",
       "    </tr>\n",
       "  </thead>\n",
       "  <tbody>\n",
       "    <tr>\n",
       "      <th>0</th>\n",
       "      <td>1</td>\n",
       "      <td>Hassle-free Eid journey this time</td>\n",
       "      <td>Thousands of people thronged highways, bus and...</td>\n",
       "      <td>5/1/2022</td>\n",
       "      <td>The Daily Sun</td>\n",
       "    </tr>\n",
       "    <tr>\n",
       "      <th>1</th>\n",
       "      <td>2</td>\n",
       "      <td>The end of an era\\nFrom a bureaucrat to a succ...</td>\n",
       "      <td>With the demise of former Finance Minister Abu...</td>\n",
       "      <td>5/1/2022</td>\n",
       "      <td>The Daily Sun</td>\n",
       "    </tr>\n",
       "    <tr>\n",
       "      <th>2</th>\n",
       "      <td>3</td>\n",
       "      <td>The end of an era\\nMuhith to be laid to rest i...</td>\n",
       "      <td>Former Finance Minister Abul Maal Abul Muhith ...</td>\n",
       "      <td>5/1/2022</td>\n",
       "      <td>The Daily Sun</td>\n",
       "    </tr>\n",
       "    <tr>\n",
       "      <th>3</th>\n",
       "      <td>4</td>\n",
       "      <td>Last-minute Eid shopping reaches peak</td>\n",
       "      <td>With the beginning of the final countdown to E...</td>\n",
       "      <td>5/1/2022</td>\n",
       "      <td>The Daily Sun</td>\n",
       "    </tr>\n",
       "    <tr>\n",
       "      <th>4</th>\n",
       "      <td>5</td>\n",
       "      <td>Eid tomorrow if moon sighted today</td>\n",
       "      <td>Holy Eid-ul-Fitr, the biggest religious festiv...</td>\n",
       "      <td>5/1/2022</td>\n",
       "      <td>The Daily Sun</td>\n",
       "    </tr>\n",
       "    <tr>\n",
       "      <th>...</th>\n",
       "      <td>...</td>\n",
       "      <td>...</td>\n",
       "      <td>...</td>\n",
       "      <td>...</td>\n",
       "      <td>...</td>\n",
       "    </tr>\n",
       "    <tr>\n",
       "      <th>1155</th>\n",
       "      <td>1156</td>\n",
       "      <td>Phillips ton propels NZ to big win over Sri Lanka</td>\n",
       "      <td>SYDNEY: Glenn Phillips smashed a powerhouse 10...</td>\n",
       "      <td>10/30/2022</td>\n",
       "      <td>The Daily Sun</td>\n",
       "    </tr>\n",
       "    <tr>\n",
       "      <th>1156</th>\n",
       "      <td>1157</td>\n",
       "      <td>BGMEA demands more gas supply to industries\\nR...</td>\n",
       "      <td>Apparel exporters have called for supplying mo...</td>\n",
       "      <td>10/31/2022</td>\n",
       "      <td>The Daily Sun</td>\n",
       "    </tr>\n",
       "    <tr>\n",
       "      <th>1157</th>\n",
       "      <td>1158</td>\n",
       "      <td>Tigers win ‘battle of nerves’\\nKeep semis hope...</td>\n",
       "      <td>Bangladesh held their nerves successfully in t...</td>\n",
       "      <td>10/31/2022</td>\n",
       "      <td>The Daily Sun</td>\n",
       "    </tr>\n",
       "    <tr>\n",
       "      <th>1158</th>\n",
       "      <td>1159</td>\n",
       "      <td>We must attain capability to protect country f...</td>\n",
       "      <td>Prime Minister Sheikh Hasina on Sunday said Ba...</td>\n",
       "      <td>10/31/2022</td>\n",
       "      <td>The Daily Sun</td>\n",
       "    </tr>\n",
       "    <tr>\n",
       "      <th>1159</th>\n",
       "      <td>1160</td>\n",
       "      <td>100 killed in Mogadishu car bombings</td>\n",
       "      <td>MOGADISHU: Somalia’s president says at least 1...</td>\n",
       "      <td>10/31/2022</td>\n",
       "      <td>The Daily Sun</td>\n",
       "    </tr>\n",
       "  </tbody>\n",
       "</table>\n",
       "<p>1160 rows × 5 columns</p>\n",
       "</div>"
      ],
      "text/plain": [
       "      Serial                                            Headline  \\\n",
       "0           1                  Hassle-free Eid journey this time   \n",
       "1           2  The end of an era\\nFrom a bureaucrat to a succ...   \n",
       "2           3  The end of an era\\nMuhith to be laid to rest i...   \n",
       "3           4              Last-minute Eid shopping reaches peak   \n",
       "4           5                 Eid tomorrow if moon sighted today   \n",
       "...       ...                                                ...   \n",
       "1155     1156  Phillips ton propels NZ to big win over Sri Lanka   \n",
       "1156     1157  BGMEA demands more gas supply to industries\\nR...   \n",
       "1157     1158  Tigers win ‘battle of nerves’\\nKeep semis hope...   \n",
       "1158     1159  We must attain capability to protect country f...   \n",
       "1159     1160               100 killed in Mogadishu car bombings   \n",
       "\n",
       "                                                   News        Date  \\\n",
       "0     Thousands of people thronged highways, bus and...    5/1/2022   \n",
       "1     With the demise of former Finance Minister Abu...    5/1/2022   \n",
       "2     Former Finance Minister Abul Maal Abul Muhith ...    5/1/2022   \n",
       "3     With the beginning of the final countdown to E...    5/1/2022   \n",
       "4     Holy Eid-ul-Fitr, the biggest religious festiv...    5/1/2022   \n",
       "...                                                 ...         ...   \n",
       "1155  SYDNEY: Glenn Phillips smashed a powerhouse 10...  10/30/2022   \n",
       "1156  Apparel exporters have called for supplying mo...  10/31/2022   \n",
       "1157  Bangladesh held their nerves successfully in t...  10/31/2022   \n",
       "1158  Prime Minister Sheikh Hasina on Sunday said Ba...  10/31/2022   \n",
       "1159  MOGADISHU: Somalia’s president says at least 1...  10/31/2022   \n",
       "\n",
       "          Publisher  \n",
       "0     The Daily Sun  \n",
       "1     The Daily Sun  \n",
       "2     The Daily Sun  \n",
       "3     The Daily Sun  \n",
       "4     The Daily Sun  \n",
       "...             ...  \n",
       "1155  The Daily Sun  \n",
       "1156  The Daily Sun  \n",
       "1157  The Daily Sun  \n",
       "1158  The Daily Sun  \n",
       "1159  The Daily Sun  \n",
       "\n",
       "[1160 rows x 5 columns]"
      ]
     },
     "execution_count": 5,
     "metadata": {},
     "output_type": "execute_result"
    }
   ],
   "source": [
    "df"
   ]
  },
  {
   "cell_type": "code",
   "execution_count": 6,
   "id": "b442128d",
   "metadata": {},
   "outputs": [
    {
     "data": {
      "text/plain": [
       "Serial        0\n",
       "Headline     43\n",
       "News          9\n",
       "Date          0\n",
       "Publisher     0\n",
       "dtype: int64"
      ]
     },
     "execution_count": 6,
     "metadata": {},
     "output_type": "execute_result"
    }
   ],
   "source": [
    "df.isnull().sum() "
   ]
  },
  {
   "cell_type": "code",
   "execution_count": 7,
   "id": "9a86cae6",
   "metadata": {},
   "outputs": [
    {
     "data": {
      "text/plain": [
       "Serial       1160\n",
       "Headline     1116\n",
       "News         1151\n",
       "Date          170\n",
       "Publisher       1\n",
       "dtype: int64"
      ]
     },
     "execution_count": 7,
     "metadata": {},
     "output_type": "execute_result"
    }
   ],
   "source": [
    "df.nunique()"
   ]
  },
  {
   "cell_type": "code",
   "execution_count": 8,
   "id": "5ea0cd5a",
   "metadata": {},
   "outputs": [
    {
     "name": "stdout",
     "output_type": "stream",
     "text": [
      "<class 'pandas.core.frame.DataFrame'>\n",
      "RangeIndex: 1160 entries, 0 to 1159\n",
      "Data columns (total 5 columns):\n",
      " #   Column     Non-Null Count  Dtype \n",
      "---  ------     --------------  ----- \n",
      " 0   Serial     1160 non-null   int64 \n",
      " 1   Headline   1117 non-null   object\n",
      " 2   News       1151 non-null   object\n",
      " 3   Date       1160 non-null   object\n",
      " 4   Publisher  1160 non-null   object\n",
      "dtypes: int64(1), object(4)\n",
      "memory usage: 45.4+ KB\n"
     ]
    }
   ],
   "source": [
    "df.info()"
   ]
  },
  {
   "cell_type": "code",
   "execution_count": 9,
   "id": "4ea622f1",
   "metadata": {},
   "outputs": [],
   "source": [
    "import matplotlib.pyplot as plt\n",
    "import seaborn as sns"
   ]
  },
  {
   "cell_type": "code",
   "execution_count": 10,
   "id": "4e98f9a1",
   "metadata": {},
   "outputs": [
    {
     "data": {
      "text/plain": [
       "<AxesSubplot:xlabel='Publisher', ylabel='count'>"
      ]
     },
     "execution_count": 10,
     "metadata": {},
     "output_type": "execute_result"
    },
    {
     "data": {
      "image/png": "[encoded data removed]",
      "text/plain": [
       "<Figure size 720x504 with 1 Axes>"
      ]
     },
     "metadata": {
      "needs_background": "light"
     },
     "output_type": "display_data"
    }
   ],
   "source": [
    "plt.figure(figsize=(10,7))\n",
    "\n",
    "sns.countplot(x='Publisher', data=df)"
   ]
  },
  {
   "cell_type": "code",
   "execution_count": 11,
   "id": "781a9dbf",
   "metadata": {},
   "outputs": [],
   "source": [
    "df['combined_text'] = df['Headline'].map(str) +\" \"+ df['News'].map(str) "
   ]
  },
  {
   "cell_type": "code",
   "execution_count": 12,
   "id": "09375fe7",
   "metadata": {},
   "outputs": [
    {
     "data": {
      "text/html": [
       "<div>\n",
       "<style scoped>\n",
       "    .dataframe tbody tr th:only-of-type {\n",
       "        vertical-align: middle;\n",
       "    }\n",
       "\n",
       "    .dataframe tbody tr th {\n",
       "        vertical-align: top;\n",
       "    }\n",
       "\n",
       "    .dataframe thead th {\n",
       "        text-align: right;\n",
       "    }\n",
       "</style>\n",
       "<table border=\"1\" class=\"dataframe\">\n",
       "  <thead>\n",
       "    <tr style=\"text-align: right;\">\n",
       "      <th></th>\n",
       "      <th>Serial</th>\n",
       "      <th>Headline</th>\n",
       "      <th>News</th>\n",
       "      <th>Date</th>\n",
       "      <th>Publisher</th>\n",
       "      <th>combined_text</th>\n",
       "    </tr>\n",
       "  </thead>\n",
       "  <tbody>\n",
       "    <tr>\n",
       "      <th>0</th>\n",
       "      <td>1</td>\n",
       "      <td>Hassle-free Eid journey this time</td>\n",
       "      <td>Thousands of people thronged highways, bus and...</td>\n",
       "      <td>5/1/2022</td>\n",
       "      <td>The Daily Sun</td>\n",
       "      <td>Hassle-free Eid journey this time Thousands of...</td>\n",
       "    </tr>\n",
       "    <tr>\n",
       "      <th>1</th>\n",
       "      <td>2</td>\n",
       "      <td>The end of an era\\nFrom a bureaucrat to a succ...</td>\n",
       "      <td>With the demise of former Finance Minister Abu...</td>\n",
       "      <td>5/1/2022</td>\n",
       "      <td>The Daily Sun</td>\n",
       "      <td>The end of an era\\nFrom a bureaucrat to a succ...</td>\n",
       "    </tr>\n",
       "    <tr>\n",
       "      <th>2</th>\n",
       "      <td>3</td>\n",
       "      <td>The end of an era\\nMuhith to be laid to rest i...</td>\n",
       "      <td>Former Finance Minister Abul Maal Abul Muhith ...</td>\n",
       "      <td>5/1/2022</td>\n",
       "      <td>The Daily Sun</td>\n",
       "      <td>The end of an era\\nMuhith to be laid to rest i...</td>\n",
       "    </tr>\n",
       "    <tr>\n",
       "      <th>3</th>\n",
       "      <td>4</td>\n",
       "      <td>Last-minute Eid shopping reaches peak</td>\n",
       "      <td>With the beginning of the final countdown to E...</td>\n",
       "      <td>5/1/2022</td>\n",
       "      <td>The Daily Sun</td>\n",
       "      <td>Last-minute Eid shopping reaches peak With the...</td>\n",
       "    </tr>\n",
       "    <tr>\n",
       "      <th>4</th>\n",
       "      <td>5</td>\n",
       "      <td>Eid tomorrow if moon sighted today</td>\n",
       "      <td>Holy Eid-ul-Fitr, the biggest religious festiv...</td>\n",
       "      <td>5/1/2022</td>\n",
       "      <td>The Daily Sun</td>\n",
       "      <td>Eid tomorrow if moon sighted today Holy Eid-ul...</td>\n",
       "    </tr>\n",
       "    <tr>\n",
       "      <th>...</th>\n",
       "      <td>...</td>\n",
       "      <td>...</td>\n",
       "      <td>...</td>\n",
       "      <td>...</td>\n",
       "      <td>...</td>\n",
       "      <td>...</td>\n",
       "    </tr>\n",
       "    <tr>\n",
       "      <th>1155</th>\n",
       "      <td>1156</td>\n",
       "      <td>Phillips ton propels NZ to big win over Sri Lanka</td>\n",
       "      <td>SYDNEY: Glenn Phillips smashed a powerhouse 10...</td>\n",
       "      <td>10/30/2022</td>\n",
       "      <td>The Daily Sun</td>\n",
       "      <td>Phillips ton propels NZ to big win over Sri La...</td>\n",
       "    </tr>\n",
       "    <tr>\n",
       "      <th>1156</th>\n",
       "      <td>1157</td>\n",
       "      <td>BGMEA demands more gas supply to industries\\nR...</td>\n",
       "      <td>Apparel exporters have called for supplying mo...</td>\n",
       "      <td>10/31/2022</td>\n",
       "      <td>The Daily Sun</td>\n",
       "      <td>BGMEA demands more gas supply to industries\\nR...</td>\n",
       "    </tr>\n",
       "    <tr>\n",
       "      <th>1157</th>\n",
       "      <td>1158</td>\n",
       "      <td>Tigers win ‘battle of nerves’\\nKeep semis hope...</td>\n",
       "      <td>Bangladesh held their nerves successfully in t...</td>\n",
       "      <td>10/31/2022</td>\n",
       "      <td>The Daily Sun</td>\n",
       "      <td>Tigers win ‘battle of nerves’\\nKeep semis hope...</td>\n",
       "    </tr>\n",
       "    <tr>\n",
       "      <th>1158</th>\n",
       "      <td>1159</td>\n",
       "      <td>We must attain capability to protect country f...</td>\n",
       "      <td>Prime Minister Sheikh Hasina on Sunday said Ba...</td>\n",
       "      <td>10/31/2022</td>\n",
       "      <td>The Daily Sun</td>\n",
       "      <td>We must attain capability to protect country f...</td>\n",
       "    </tr>\n",
       "    <tr>\n",
       "      <th>1159</th>\n",
       "      <td>1160</td>\n",
       "      <td>100 killed in Mogadishu car bombings</td>\n",
       "      <td>MOGADISHU: Somalia’s president says at least 1...</td>\n",
       "      <td>10/31/2022</td>\n",
       "      <td>The Daily Sun</td>\n",
       "      <td>100 killed in Mogadishu car bombings MOGADISHU...</td>\n",
       "    </tr>\n",
       "  </tbody>\n",
       "</table>\n",
       "<p>1160 rows × 6 columns</p>\n",
       "</div>"
      ],
      "text/plain": [
       "      Serial                                            Headline  \\\n",
       "0           1                  Hassle-free Eid journey this time   \n",
       "1           2  The end of an era\\nFrom a bureaucrat to a succ...   \n",
       "2           3  The end of an era\\nMuhith to be laid to rest i...   \n",
       "3           4              Last-minute Eid shopping reaches peak   \n",
       "4           5                 Eid tomorrow if moon sighted today   \n",
       "...       ...                                                ...   \n",
       "1155     1156  Phillips ton propels NZ to big win over Sri Lanka   \n",
       "1156     1157  BGMEA demands more gas supply to industries\\nR...   \n",
       "1157     1158  Tigers win ‘battle of nerves’\\nKeep semis hope...   \n",
       "1158     1159  We must attain capability to protect country f...   \n",
       "1159     1160               100 killed in Mogadishu car bombings   \n",
       "\n",
       "                                                   News        Date  \\\n",
       "0     Thousands of people thronged highways, bus and...    5/1/2022   \n",
       "1     With the demise of former Finance Minister Abu...    5/1/2022   \n",
       "2     Former Finance Minister Abul Maal Abul Muhith ...    5/1/2022   \n",
       "3     With the beginning of the final countdown to E...    5/1/2022   \n",
       "4     Holy Eid-ul-Fitr, the biggest religious festiv...    5/1/2022   \n",
       "...                                                 ...         ...   \n",
       "1155  SYDNEY: Glenn Phillips smashed a powerhouse 10...  10/30/2022   \n",
       "1156  Apparel exporters have called for supplying mo...  10/31/2022   \n",
       "1157  Bangladesh held their nerves successfully in t...  10/31/2022   \n",
       "1158  Prime Minister Sheikh Hasina on Sunday said Ba...  10/31/2022   \n",
       "1159  MOGADISHU: Somalia’s president says at least 1...  10/31/2022   \n",
       "\n",
       "          Publisher                                      combined_text  \n",
       "0     The Daily Sun  Hassle-free Eid journey this time Thousands of...  \n",
       "1     The Daily Sun  The end of an era\\nFrom a bureaucrat to a succ...  \n",
       "2     The Daily Sun  The end of an era\\nMuhith to be laid to rest i...  \n",
       "3     The Daily Sun  Last-minute Eid shopping reaches peak With the...  \n",
       "4     The Daily Sun  Eid tomorrow if moon sighted today Holy Eid-ul...  \n",
       "...             ...                                                ...  \n",
       "1155  The Daily Sun  Phillips ton propels NZ to big win over Sri La...  \n",
       "1156  The Daily Sun  BGMEA demands more gas supply to industries\\nR...  \n",
       "1157  The Daily Sun  Tigers win ‘battle of nerves’\\nKeep semis hope...  \n",
       "1158  The Daily Sun  We must attain capability to protect country f...  \n",
       "1159  The Daily Sun  100 killed in Mogadishu car bombings MOGADISHU...  \n",
       "\n",
       "[1160 rows x 6 columns]"
      ]
     },
     "execution_count": 12,
     "metadata": {},
     "output_type": "execute_result"
    }
   ],
   "source": [
    "df"
   ]
  },
  {
   "cell_type": "code",
   "execution_count": 13,
   "id": "6dad6a4a",
   "metadata": {},
   "outputs": [],
   "source": [
    "df.to_csv('cleaned26.csv')"
   ]
  },
  {
   "cell_type": "code",
   "execution_count": 14,
   "id": "580c0160",
   "metadata": {},
   "outputs": [],
   "source": [
    "# Function to remove non-ascii characters from the text\n",
    "def _removeNonAscii(s): \n",
    "    return \"\".join(i for i in s if ord(i)<128)\n",
    "# function to remove the punctuations, apostrophe, special characters using regular expressions\n",
    "def clean_text(text):\n",
    "    text = text.lower()\n",
    "    text = re.sub(r\"what's\", \"what is \", text)\n",
    "    text = text.replace('(ap)', '')\n",
    "    text = re.sub(r\"\\'s\", \" is \", text)\n",
    "    text = re.sub(r\"\\'ve\", \" have \", text)\n",
    "    text = re.sub(r\"can't\", \"cannot \", text)\n",
    "    text = re.sub(r\"n't\", \" not \", text)\n",
    "    text = re.sub(r\"i'm\", \"i am \", text)\n",
    "    text = re.sub(r\"\\'re\", \" are \", text)\n",
    "    text = re.sub(r\"\\'d\", \" would \", text)\n",
    "    text = re.sub(r\"\\'ll\", \" will \", text)\n",
    "    text = re.sub(r'\\W+', ' ', text)\n",
    "    text = re.sub(r'\\s+', ' ', text)\n",
    "    text = re.sub(r\"\\\\\", \"\", text)\n",
    "    text = re.sub(r\"\\'\", \"\", text)    \n",
    "    text = re.sub(r\"\\\"\", \"\", text)\n",
    "    text = re.sub('[^a-zA-Z ?!]+', '', text)\n",
    "    text = _removeNonAscii(text)\n",
    "    text = text.strip()\n",
    "    return text\n",
    "# stop words are the words that convery little to no information about the actual content like the words:the, of, for etc\n",
    "def remove_stopwords(word_tokens):\n",
    "    filtered_sentence = [] \n",
    "    stop_words = stopwords.words('english')\n",
    "    specific_words_list = [] \n",
    "    stop_words.extend(specific_words_list )\n",
    "    for w in word_tokens: \n",
    "        if w not in stop_words: \n",
    "            filtered_sentence.append(w) \n",
    "    return filtered_sentence\n",
    "# function for lemmatization \n",
    "def lemmatize(x):\n",
    "    lemmatizer = WordNetLemmatizer()\n",
    "    return' '.join([lemmatizer.lemmatize(word) for word in x])"
   ]
  },
  {
   "cell_type": "code",
   "execution_count": 15,
   "id": "5254dc71",
   "metadata": {},
   "outputs": [],
   "source": [
    "# splitting a string, text into a list of tokens\n",
    "tokenizer = RegexpTokenizer(r'\\w+')\n",
    "def tokenize(x): \n",
    "    return tokenizer.tokenize(x)"
   ]
  },
  {
   "cell_type": "code",
   "execution_count": 16,
   "id": "75daf0b8",
   "metadata": {},
   "outputs": [
    {
     "name": "stderr",
     "output_type": "stream",
     "text": [
      "[nltk_data] Downloading package stopwords to\n",
      "[nltk_data]     C:\\Users\\Lenovo\\AppData\\Roaming\\nltk_data...\n",
      "[nltk_data]   Package stopwords is already up-to-date!\n"
     ]
    },
    {
     "data": {
      "text/plain": [
       "True"
      ]
     },
     "execution_count": 16,
     "metadata": {},
     "output_type": "execute_result"
    }
   ],
   "source": [
    "nltk.download('stopwords')"
   ]
  },
  {
   "cell_type": "code",
   "execution_count": 17,
   "id": "1c415ab6",
   "metadata": {},
   "outputs": [
    {
     "name": "stderr",
     "output_type": "stream",
     "text": [
      "[nltk_data] Downloading package wordnet to\n",
      "[nltk_data]     C:\\Users\\Lenovo\\AppData\\Roaming\\nltk_data...\n",
      "[nltk_data]   Package wordnet is already up-to-date!\n"
     ]
    },
    {
     "data": {
      "text/plain": [
       "True"
      ]
     },
     "execution_count": 17,
     "metadata": {},
     "output_type": "execute_result"
    }
   ],
   "source": [
    "nltk.download('wordnet')"
   ]
  },
  {
   "cell_type": "code",
   "execution_count": 18,
   "id": "ca54437e",
   "metadata": {},
   "outputs": [
    {
     "name": "stderr",
     "output_type": "stream",
     "text": [
      "[nltk_data] Downloading package omw-1.4 to\n",
      "[nltk_data]     C:\\Users\\Lenovo\\AppData\\Roaming\\nltk_data...\n",
      "[nltk_data]   Package omw-1.4 is already up-to-date!\n"
     ]
    },
    {
     "data": {
      "text/plain": [
       "True"
      ]
     },
     "execution_count": 18,
     "metadata": {},
     "output_type": "execute_result"
    }
   ],
   "source": [
    "nltk.download('omw-1.4')"
   ]
  },
  {
   "cell_type": "code",
   "execution_count": 19,
   "id": "eca42a95",
   "metadata": {},
   "outputs": [],
   "source": [
    "# applying all of these functions to the our dataframe \n",
    "df['combined_text'] = df['combined_text'].map(clean_text)\n",
    "df['tokens'] = df['combined_text'].map(tokenize)\n",
    "df['tokens'] = df['tokens'].map(remove_stopwords)\n",
    "df['lems'] =df['tokens'].map(lemmatize)"
   ]
  },
  {
   "cell_type": "code",
   "execution_count": 20,
   "id": "528ec517",
   "metadata": {},
   "outputs": [
    {
     "data": {
      "text/html": [
       "<div>\n",
       "<style scoped>\n",
       "    .dataframe tbody tr th:only-of-type {\n",
       "        vertical-align: middle;\n",
       "    }\n",
       "\n",
       "    .dataframe tbody tr th {\n",
       "        vertical-align: top;\n",
       "    }\n",
       "\n",
       "    .dataframe thead th {\n",
       "        text-align: right;\n",
       "    }\n",
       "</style>\n",
       "<table border=\"1\" class=\"dataframe\">\n",
       "  <thead>\n",
       "    <tr style=\"text-align: right;\">\n",
       "      <th></th>\n",
       "      <th>Serial</th>\n",
       "      <th>Headline</th>\n",
       "      <th>News</th>\n",
       "      <th>Date</th>\n",
       "      <th>Publisher</th>\n",
       "      <th>combined_text</th>\n",
       "      <th>tokens</th>\n",
       "      <th>lems</th>\n",
       "    </tr>\n",
       "  </thead>\n",
       "  <tbody>\n",
       "    <tr>\n",
       "      <th>0</th>\n",
       "      <td>1</td>\n",
       "      <td>Hassle-free Eid journey this time</td>\n",
       "      <td>Thousands of people thronged highways, bus and...</td>\n",
       "      <td>5/1/2022</td>\n",
       "      <td>The Daily Sun</td>\n",
       "      <td>hassle free eid journey this time thousands of...</td>\n",
       "      <td>[hassle, free, eid, journey, time, thousands, ...</td>\n",
       "      <td>hassle free eid journey time thousand people t...</td>\n",
       "    </tr>\n",
       "    <tr>\n",
       "      <th>1</th>\n",
       "      <td>2</td>\n",
       "      <td>The end of an era\\nFrom a bureaucrat to a succ...</td>\n",
       "      <td>With the demise of former Finance Minister Abu...</td>\n",
       "      <td>5/1/2022</td>\n",
       "      <td>The Daily Sun</td>\n",
       "      <td>the end of an era from a bureaucrat to a succe...</td>\n",
       "      <td>[end, era, bureaucrat, successful, finance, mi...</td>\n",
       "      <td>end era bureaucrat successful finance minister...</td>\n",
       "    </tr>\n",
       "    <tr>\n",
       "      <th>2</th>\n",
       "      <td>3</td>\n",
       "      <td>The end of an era\\nMuhith to be laid to rest i...</td>\n",
       "      <td>Former Finance Minister Abul Maal Abul Muhith ...</td>\n",
       "      <td>5/1/2022</td>\n",
       "      <td>The Daily Sun</td>\n",
       "      <td>the end of an era muhith to be laid to rest in...</td>\n",
       "      <td>[end, era, muhith, laid, rest, sylhet, today, ...</td>\n",
       "      <td>end era muhith laid rest sylhet today former f...</td>\n",
       "    </tr>\n",
       "    <tr>\n",
       "      <th>3</th>\n",
       "      <td>4</td>\n",
       "      <td>Last-minute Eid shopping reaches peak</td>\n",
       "      <td>With the beginning of the final countdown to E...</td>\n",
       "      <td>5/1/2022</td>\n",
       "      <td>The Daily Sun</td>\n",
       "      <td>last minute eid shopping reaches peak with the...</td>\n",
       "      <td>[last, minute, eid, shopping, reaches, peak, b...</td>\n",
       "      <td>last minute eid shopping reach peak beginning ...</td>\n",
       "    </tr>\n",
       "    <tr>\n",
       "      <th>4</th>\n",
       "      <td>5</td>\n",
       "      <td>Eid tomorrow if moon sighted today</td>\n",
       "      <td>Holy Eid-ul-Fitr, the biggest religious festiv...</td>\n",
       "      <td>5/1/2022</td>\n",
       "      <td>The Daily Sun</td>\n",
       "      <td>eid tomorrow if moon sighted today holy eid ul...</td>\n",
       "      <td>[eid, tomorrow, moon, sighted, today, holy, ei...</td>\n",
       "      <td>eid tomorrow moon sighted today holy eid ul fi...</td>\n",
       "    </tr>\n",
       "  </tbody>\n",
       "</table>\n",
       "</div>"
      ],
      "text/plain": [
       "   Serial                                            Headline  \\\n",
       "0        1                  Hassle-free Eid journey this time   \n",
       "1        2  The end of an era\\nFrom a bureaucrat to a succ...   \n",
       "2        3  The end of an era\\nMuhith to be laid to rest i...   \n",
       "3        4              Last-minute Eid shopping reaches peak   \n",
       "4        5                 Eid tomorrow if moon sighted today   \n",
       "\n",
       "                                                News      Date      Publisher  \\\n",
       "0  Thousands of people thronged highways, bus and...  5/1/2022  The Daily Sun   \n",
       "1  With the demise of former Finance Minister Abu...  5/1/2022  The Daily Sun   \n",
       "2  Former Finance Minister Abul Maal Abul Muhith ...  5/1/2022  The Daily Sun   \n",
       "3  With the beginning of the final countdown to E...  5/1/2022  The Daily Sun   \n",
       "4  Holy Eid-ul-Fitr, the biggest religious festiv...  5/1/2022  The Daily Sun   \n",
       "\n",
       "                                       combined_text  \\\n",
       "0  hassle free eid journey this time thousands of...   \n",
       "1  the end of an era from a bureaucrat to a succe...   \n",
       "2  the end of an era muhith to be laid to rest in...   \n",
       "3  last minute eid shopping reaches peak with the...   \n",
       "4  eid tomorrow if moon sighted today holy eid ul...   \n",
       "\n",
       "                                              tokens  \\\n",
       "0  [hassle, free, eid, journey, time, thousands, ...   \n",
       "1  [end, era, bureaucrat, successful, finance, mi...   \n",
       "2  [end, era, muhith, laid, rest, sylhet, today, ...   \n",
       "3  [last, minute, eid, shopping, reaches, peak, b...   \n",
       "4  [eid, tomorrow, moon, sighted, today, holy, ei...   \n",
       "\n",
       "                                                lems  \n",
       "0  hassle free eid journey time thousand people t...  \n",
       "1  end era bureaucrat successful finance minister...  \n",
       "2  end era muhith laid rest sylhet today former f...  \n",
       "3  last minute eid shopping reach peak beginning ...  \n",
       "4  eid tomorrow moon sighted today holy eid ul fi...  "
      ]
     },
     "execution_count": 20,
     "metadata": {},
     "output_type": "execute_result"
    }
   ],
   "source": [
    "df.head()"
   ]
  },
  {
   "cell_type": "code",
   "execution_count": 21,
   "id": "5f1f46fe",
   "metadata": {},
   "outputs": [
    {
     "name": "stderr",
     "output_type": "stream",
     "text": [
      "[nltk_data] Downloading package vader_lexicon to\n",
      "[nltk_data]     C:\\Users\\Lenovo\\AppData\\Roaming\\nltk_data...\n",
      "[nltk_data]   Package vader_lexicon is already up-to-date!\n"
     ]
    },
    {
     "data": {
      "text/plain": [
       "True"
      ]
     },
     "execution_count": 21,
     "metadata": {},
     "output_type": "execute_result"
    }
   ],
   "source": [
    "nltk.download('vader_lexicon')"
   ]
  },
  {
   "cell_type": "code",
   "execution_count": 22,
   "id": "ea6b54c4",
   "metadata": {},
   "outputs": [],
   "source": [
    "# calculating the polarity of the news articles \n",
    "from nltk.sentiment.vader import SentimentIntensityAnalyzer as SIA\n",
    "sia = SIA()\n",
    "results = []\n",
    "for line in df['lems'] :\n",
    "    pol_score = sia.polarity_scores(line)\n",
    "    pol_score['Full_News'] = line\n",
    "    results.append(pol_score)"
   ]
  },
  {
   "cell_type": "code",
   "execution_count": 23,
   "id": "9c4bbfba",
   "metadata": {},
   "outputs": [],
   "source": [
    "# Creating a new dataframe of only the polarity score, the headline and the source of the news \n",
    "headlines_polarity = pd.DataFrame.from_records(results)\n",
    "temp = []\n",
    "for line in df['Publisher'] :\n",
    "    temp.append(line)\n",
    "headlines_polarity['Publisher'] =temp"
   ]
  },
  {
   "cell_type": "code",
   "execution_count": 24,
   "id": "07d2eb46",
   "metadata": {},
   "outputs": [],
   "source": [
    "# categorize news as positive or negative based on the compound score obtained\n",
    "headlines_polarity['label'] = 0\n",
    "# I have considered the news as positive if the compound score is greater than 0.2 hence the label 1\n",
    "headlines_polarity.loc[headlines_polarity['compound'] > 0.1, 'label'] = 1\n",
    "# if the compound score is below 0.2 then it is considered negative \n",
    "headlines_polarity.loc[headlines_polarity['compound'] < -0.1, 'label'] = -1\n",
    "# word count of news headlines is calculated\n",
    "headlines_polarity['word_count'] = headlines_polarity['Full_News'].apply(lambda x: len(str(x).split()))"
   ]
  },
  {
   "cell_type": "code",
   "execution_count": 25,
   "id": "66ea893a",
   "metadata": {},
   "outputs": [
    {
     "data": {
      "text/html": [
       "<div>\n",
       "<style scoped>\n",
       "    .dataframe tbody tr th:only-of-type {\n",
       "        vertical-align: middle;\n",
       "    }\n",
       "\n",
       "    .dataframe tbody tr th {\n",
       "        vertical-align: top;\n",
       "    }\n",
       "\n",
       "    .dataframe thead th {\n",
       "        text-align: right;\n",
       "    }\n",
       "</style>\n",
       "<table border=\"1\" class=\"dataframe\">\n",
       "  <thead>\n",
       "    <tr style=\"text-align: right;\">\n",
       "      <th></th>\n",
       "      <th>neg</th>\n",
       "      <th>neu</th>\n",
       "      <th>pos</th>\n",
       "      <th>compound</th>\n",
       "      <th>Full_News</th>\n",
       "      <th>Publisher</th>\n",
       "      <th>label</th>\n",
       "      <th>word_count</th>\n",
       "    </tr>\n",
       "  </thead>\n",
       "  <tbody>\n",
       "    <tr>\n",
       "      <th>0</th>\n",
       "      <td>0.077</td>\n",
       "      <td>0.807</td>\n",
       "      <td>0.116</td>\n",
       "      <td>0.9565</td>\n",
       "      <td>hassle free eid journey time thousand people t...</td>\n",
       "      <td>The Daily Sun</td>\n",
       "      <td>1</td>\n",
       "      <td>357</td>\n",
       "    </tr>\n",
       "    <tr>\n",
       "      <th>1</th>\n",
       "      <td>0.043</td>\n",
       "      <td>0.760</td>\n",
       "      <td>0.197</td>\n",
       "      <td>0.9961</td>\n",
       "      <td>end era bureaucrat successful finance minister...</td>\n",
       "      <td>The Daily Sun</td>\n",
       "      <td>1</td>\n",
       "      <td>405</td>\n",
       "    </tr>\n",
       "    <tr>\n",
       "      <th>2</th>\n",
       "      <td>0.088</td>\n",
       "      <td>0.834</td>\n",
       "      <td>0.078</td>\n",
       "      <td>-0.8360</td>\n",
       "      <td>end era muhith laid rest sylhet today former f...</td>\n",
       "      <td>The Daily Sun</td>\n",
       "      <td>-1</td>\n",
       "      <td>531</td>\n",
       "    </tr>\n",
       "    <tr>\n",
       "      <th>3</th>\n",
       "      <td>0.020</td>\n",
       "      <td>0.800</td>\n",
       "      <td>0.181</td>\n",
       "      <td>0.9936</td>\n",
       "      <td>last minute eid shopping reach peak beginning ...</td>\n",
       "      <td>The Daily Sun</td>\n",
       "      <td>1</td>\n",
       "      <td>271</td>\n",
       "    </tr>\n",
       "    <tr>\n",
       "      <th>4</th>\n",
       "      <td>0.000</td>\n",
       "      <td>0.739</td>\n",
       "      <td>0.261</td>\n",
       "      <td>0.9806</td>\n",
       "      <td>eid tomorrow moon sighted today holy eid ul fi...</td>\n",
       "      <td>The Daily Sun</td>\n",
       "      <td>1</td>\n",
       "      <td>97</td>\n",
       "    </tr>\n",
       "  </tbody>\n",
       "</table>\n",
       "</div>"
      ],
      "text/plain": [
       "     neg    neu    pos  compound  \\\n",
       "0  0.077  0.807  0.116    0.9565   \n",
       "1  0.043  0.760  0.197    0.9961   \n",
       "2  0.088  0.834  0.078   -0.8360   \n",
       "3  0.020  0.800  0.181    0.9936   \n",
       "4  0.000  0.739  0.261    0.9806   \n",
       "\n",
       "                                           Full_News      Publisher  label  \\\n",
       "0  hassle free eid journey time thousand people t...  The Daily Sun      1   \n",
       "1  end era bureaucrat successful finance minister...  The Daily Sun      1   \n",
       "2  end era muhith laid rest sylhet today former f...  The Daily Sun     -1   \n",
       "3  last minute eid shopping reach peak beginning ...  The Daily Sun      1   \n",
       "4  eid tomorrow moon sighted today holy eid ul fi...  The Daily Sun      1   \n",
       "\n",
       "   word_count  \n",
       "0         357  \n",
       "1         405  \n",
       "2         531  \n",
       "3         271  \n",
       "4          97  "
      ]
     },
     "execution_count": 25,
     "metadata": {},
     "output_type": "execute_result"
    }
   ],
   "source": [
    "headlines_polarity.head()"
   ]
  },
  {
   "cell_type": "code",
   "execution_count": 26,
   "id": "e5f3b6b7",
   "metadata": {},
   "outputs": [
    {
     "data": {
      "image/png": "[encoded data removed]",
      "text/plain": [
       "<Figure size 432x432 with 1 Axes>"
      ]
     },
     "metadata": {
      "needs_background": "light"
     },
     "output_type": "display_data"
    }
   ],
   "source": [
    "import matplotlib.pyplot as plt\n",
    "import seaborn as sns\n",
    "fig, ax = plt.subplots(figsize=(6, 6))\n",
    "counts = headlines_polarity.label.value_counts(normalize=True) * 100\n",
    "sns.barplot(x=counts.index, y=counts, ax=ax)\n",
    "ax.set_xticklabels(['Negative', 'Neutral', 'Positive'])\n",
    "ax.set_ylabel(\"Percentage\")\n",
    "plt.show()"
   ]
  },
  {
   "cell_type": "code",
   "execution_count": 27,
   "id": "f9174040",
   "metadata": {},
   "outputs": [
    {
     "data": {
      "text/plain": [
       "<AxesSubplot:xlabel='label', ylabel='count'>"
      ]
     },
     "execution_count": 27,
     "metadata": {},
     "output_type": "execute_result"
    },
    {
     "data": {
      "image/png": "[encoded data removed]",
      "text/plain": [
       "<Figure size 432x288 with 1 Axes>"
      ]
     },
     "metadata": {
      "needs_background": "light"
     },
     "output_type": "display_data"
    }
   ],
   "source": [
    "sns.countplot(x='label', data=headlines_polarity)"
   ]
  },
  {
   "cell_type": "code",
   "execution_count": 28,
   "id": "b7ab6b9b",
   "metadata": {},
   "outputs": [
    {
     "data": {
      "text/plain": [
       "label\n",
       "-1    43.620690\n",
       " 0     3.275862\n",
       " 1    53.103448\n",
       "dtype: float64"
      ]
     },
     "execution_count": 28,
     "metadata": {},
     "output_type": "execute_result"
    }
   ],
   "source": [
    "headlines_polarity.groupby(\"label\").size()/len(headlines_polarity) * 100"
   ]
  },
  {
   "cell_type": "code",
   "execution_count": 29,
   "id": "a8aad6dd",
   "metadata": {},
   "outputs": [
    {
     "data": {
      "text/plain": [
       " 1    616\n",
       "-1    506\n",
       " 0     38\n",
       "Name: label, dtype: int64"
      ]
     },
     "execution_count": 29,
     "metadata": {},
     "output_type": "execute_result"
    }
   ],
   "source": [
    "headlines_polarity['label'].value_counts()"
   ]
  },
  {
   "cell_type": "code",
   "execution_count": 30,
   "id": "c34ae444",
   "metadata": {},
   "outputs": [
    {
     "data": {
      "text/plain": [
       "<AxesSubplot:xlabel='Publisher', ylabel='count'>"
      ]
     },
     "execution_count": 30,
     "metadata": {},
     "output_type": "execute_result"
    },
    {
     "data": {
      "image/png": "[encoded data removed]",
      "text/plain": [
       "<Figure size 720x432 with 1 Axes>"
      ]
     },
     "metadata": {},
     "output_type": "display_data"
    }
   ],
   "source": [
    "sns.set(style='white')\n",
    "plt.figure(figsize=(10,6))\n",
    "#create grouped bar chart\n",
    "sns.countplot(x='Publisher', hue='label', data=headlines_polarity)"
   ]
  },
  {
   "cell_type": "code",
   "execution_count": 31,
   "id": "d54a20ba",
   "metadata": {},
   "outputs": [
    {
     "data": {
      "text/html": [
       "<div>\n",
       "<style scoped>\n",
       "    .dataframe tbody tr th:only-of-type {\n",
       "        vertical-align: middle;\n",
       "    }\n",
       "\n",
       "    .dataframe tbody tr th {\n",
       "        vertical-align: top;\n",
       "    }\n",
       "\n",
       "    .dataframe thead th {\n",
       "        text-align: right;\n",
       "    }\n",
       "</style>\n",
       "<table border=\"1\" class=\"dataframe\">\n",
       "  <thead>\n",
       "    <tr style=\"text-align: right;\">\n",
       "      <th></th>\n",
       "      <th>neg</th>\n",
       "      <th>neu</th>\n",
       "      <th>pos</th>\n",
       "      <th>compound</th>\n",
       "      <th>Full_News</th>\n",
       "      <th>Publisher</th>\n",
       "      <th>label</th>\n",
       "      <th>word_count</th>\n",
       "    </tr>\n",
       "  </thead>\n",
       "  <tbody>\n",
       "    <tr>\n",
       "      <th>0</th>\n",
       "      <td>0.077</td>\n",
       "      <td>0.807</td>\n",
       "      <td>0.116</td>\n",
       "      <td>0.9565</td>\n",
       "      <td>hassle free eid journey time thousand people t...</td>\n",
       "      <td>The Daily Sun</td>\n",
       "      <td>1</td>\n",
       "      <td>357</td>\n",
       "    </tr>\n",
       "    <tr>\n",
       "      <th>1</th>\n",
       "      <td>0.043</td>\n",
       "      <td>0.760</td>\n",
       "      <td>0.197</td>\n",
       "      <td>0.9961</td>\n",
       "      <td>end era bureaucrat successful finance minister...</td>\n",
       "      <td>The Daily Sun</td>\n",
       "      <td>1</td>\n",
       "      <td>405</td>\n",
       "    </tr>\n",
       "    <tr>\n",
       "      <th>2</th>\n",
       "      <td>0.088</td>\n",
       "      <td>0.834</td>\n",
       "      <td>0.078</td>\n",
       "      <td>-0.8360</td>\n",
       "      <td>end era muhith laid rest sylhet today former f...</td>\n",
       "      <td>The Daily Sun</td>\n",
       "      <td>-1</td>\n",
       "      <td>531</td>\n",
       "    </tr>\n",
       "    <tr>\n",
       "      <th>3</th>\n",
       "      <td>0.020</td>\n",
       "      <td>0.800</td>\n",
       "      <td>0.181</td>\n",
       "      <td>0.9936</td>\n",
       "      <td>last minute eid shopping reach peak beginning ...</td>\n",
       "      <td>The Daily Sun</td>\n",
       "      <td>1</td>\n",
       "      <td>271</td>\n",
       "    </tr>\n",
       "    <tr>\n",
       "      <th>4</th>\n",
       "      <td>0.000</td>\n",
       "      <td>0.739</td>\n",
       "      <td>0.261</td>\n",
       "      <td>0.9806</td>\n",
       "      <td>eid tomorrow moon sighted today holy eid ul fi...</td>\n",
       "      <td>The Daily Sun</td>\n",
       "      <td>1</td>\n",
       "      <td>97</td>\n",
       "    </tr>\n",
       "    <tr>\n",
       "      <th>...</th>\n",
       "      <td>...</td>\n",
       "      <td>...</td>\n",
       "      <td>...</td>\n",
       "      <td>...</td>\n",
       "      <td>...</td>\n",
       "      <td>...</td>\n",
       "      <td>...</td>\n",
       "      <td>...</td>\n",
       "    </tr>\n",
       "    <tr>\n",
       "      <th>1155</th>\n",
       "      <td>0.079</td>\n",
       "      <td>0.776</td>\n",
       "      <td>0.145</td>\n",
       "      <td>0.9819</td>\n",
       "      <td>phillips ton propels nz big win sri lanka sydn...</td>\n",
       "      <td>The Daily Sun</td>\n",
       "      <td>1</td>\n",
       "      <td>375</td>\n",
       "    </tr>\n",
       "    <tr>\n",
       "      <th>1156</th>\n",
       "      <td>0.077</td>\n",
       "      <td>0.792</td>\n",
       "      <td>0.131</td>\n",
       "      <td>0.9404</td>\n",
       "      <td>bgmea demand gas supply industry rmg export ta...</td>\n",
       "      <td>The Daily Sun</td>\n",
       "      <td>1</td>\n",
       "      <td>288</td>\n",
       "    </tr>\n",
       "    <tr>\n",
       "      <th>1157</th>\n",
       "      <td>0.061</td>\n",
       "      <td>0.767</td>\n",
       "      <td>0.172</td>\n",
       "      <td>0.9945</td>\n",
       "      <td>tiger win battle nerve keep semi hope alive ba...</td>\n",
       "      <td>The Daily Sun</td>\n",
       "      <td>1</td>\n",
       "      <td>422</td>\n",
       "    </tr>\n",
       "    <tr>\n",
       "      <th>1158</th>\n",
       "      <td>0.093</td>\n",
       "      <td>0.758</td>\n",
       "      <td>0.150</td>\n",
       "      <td>0.9413</td>\n",
       "      <td>must attain capability protect country externa...</td>\n",
       "      <td>The Daily Sun</td>\n",
       "      <td>1</td>\n",
       "      <td>356</td>\n",
       "    </tr>\n",
       "    <tr>\n",
       "      <th>1159</th>\n",
       "      <td>0.225</td>\n",
       "      <td>0.690</td>\n",
       "      <td>0.085</td>\n",
       "      <td>-0.9965</td>\n",
       "      <td>killed mogadishu car bombing mogadishu somalia...</td>\n",
       "      <td>The Daily Sun</td>\n",
       "      <td>-1</td>\n",
       "      <td>335</td>\n",
       "    </tr>\n",
       "  </tbody>\n",
       "</table>\n",
       "<p>1160 rows × 8 columns</p>\n",
       "</div>"
      ],
      "text/plain": [
       "        neg    neu    pos  compound  \\\n",
       "0     0.077  0.807  0.116    0.9565   \n",
       "1     0.043  0.760  0.197    0.9961   \n",
       "2     0.088  0.834  0.078   -0.8360   \n",
       "3     0.020  0.800  0.181    0.9936   \n",
       "4     0.000  0.739  0.261    0.9806   \n",
       "...     ...    ...    ...       ...   \n",
       "1155  0.079  0.776  0.145    0.9819   \n",
       "1156  0.077  0.792  0.131    0.9404   \n",
       "1157  0.061  0.767  0.172    0.9945   \n",
       "1158  0.093  0.758  0.150    0.9413   \n",
       "1159  0.225  0.690  0.085   -0.9965   \n",
       "\n",
       "                                              Full_News      Publisher  label  \\\n",
       "0     hassle free eid journey time thousand people t...  The Daily Sun      1   \n",
       "1     end era bureaucrat successful finance minister...  The Daily Sun      1   \n",
       "2     end era muhith laid rest sylhet today former f...  The Daily Sun     -1   \n",
       "3     last minute eid shopping reach peak beginning ...  The Daily Sun      1   \n",
       "4     eid tomorrow moon sighted today holy eid ul fi...  The Daily Sun      1   \n",
       "...                                                 ...            ...    ...   \n",
       "1155  phillips ton propels nz big win sri lanka sydn...  The Daily Sun      1   \n",
       "1156  bgmea demand gas supply industry rmg export ta...  The Daily Sun      1   \n",
       "1157  tiger win battle nerve keep semi hope alive ba...  The Daily Sun      1   \n",
       "1158  must attain capability protect country externa...  The Daily Sun      1   \n",
       "1159  killed mogadishu car bombing mogadishu somalia...  The Daily Sun     -1   \n",
       "\n",
       "      word_count  \n",
       "0            357  \n",
       "1            405  \n",
       "2            531  \n",
       "3            271  \n",
       "4             97  \n",
       "...          ...  \n",
       "1155         375  \n",
       "1156         288  \n",
       "1157         422  \n",
       "1158         356  \n",
       "1159         335  \n",
       "\n",
       "[1160 rows x 8 columns]"
      ]
     },
     "execution_count": 31,
     "metadata": {},
     "output_type": "execute_result"
    }
   ],
   "source": [
    "headlines_polarity"
   ]
  },
  {
   "cell_type": "code",
   "execution_count": 32,
   "id": "f4678424",
   "metadata": {},
   "outputs": [
    {
     "data": {
      "text/plain": [
       "neg           0\n",
       "neu           0\n",
       "pos           0\n",
       "compound      0\n",
       "Full_News     0\n",
       "Publisher     0\n",
       "label         0\n",
       "word_count    0\n",
       "dtype: int64"
      ]
     },
     "execution_count": 32,
     "metadata": {},
     "output_type": "execute_result"
    }
   ],
   "source": [
    "headlines_polarity.isnull().sum() "
   ]
  },
  {
   "cell_type": "code",
   "execution_count": 33,
   "id": "18dcc671",
   "metadata": {},
   "outputs": [
    {
     "data": {
      "image/png": "[encoded data removed]",
      "text/plain": [
       "<Figure size 432x288 with 1 Axes>"
      ]
     },
     "metadata": {},
     "output_type": "display_data"
    }
   ],
   "source": [
    "import matplotlib.pyplot as plt\n",
    "\n",
    "# Data to plot\n",
    "labels = 'Positive', 'Neutral', 'Negative'\n",
    "sizes = [54.305365, 3.259972, 42.434663]\n",
    "colors = ['gold', 'yellowgreen', 'lightcoral']\n",
    "explode = (0.1, 0.1, 0.1)  # explode 1st slice\n",
    "\n",
    "# Plot\n",
    "plt.pie(sizes, explode=explode, labels=labels, colors=colors,\n",
    "autopct='%1.1f%%', shadow=True, startangle=140)\n",
    "\n",
    "plt.axis('equal')\n",
    "plt.show()"
   ]
  },
  {
   "cell_type": "code",
   "execution_count": 34,
   "id": "05c111a2",
   "metadata": {},
   "outputs": [],
   "source": [
    "headlines_polarity.to_csv('cleaned31.csv')"
   ]
  },
  {
   "cell_type": "code",
   "execution_count": 35,
   "id": "54eefc04",
   "metadata": {},
   "outputs": [
    {
     "data": {
      "text/plain": [
       "neg            284\n",
       "neu            347\n",
       "pos            265\n",
       "compound       645\n",
       "Full_News     1152\n",
       "Publisher        1\n",
       "label            3\n",
       "word_count     509\n",
       "dtype: int64"
      ]
     },
     "execution_count": 35,
     "metadata": {},
     "output_type": "execute_result"
    }
   ],
   "source": [
    "headlines_polarity.nunique()"
   ]
  },
  {
   "cell_type": "code",
   "execution_count": 36,
   "id": "cbce1f27",
   "metadata": {},
   "outputs": [
    {
     "name": "stdout",
     "output_type": "stream",
     "text": [
      "Requirement already satisfied: wordcloud in c:\\users\\lenovo\\anaconda3\\lib\\site-packages (1.9.2)\n",
      "Requirement already satisfied: pillow in c:\\users\\lenovo\\anaconda3\\lib\\site-packages (from wordcloud) (9.0.1)\n",
      "Requirement already satisfied: numpy>=1.6.1 in c:\\users\\lenovo\\anaconda3\\lib\\site-packages (from wordcloud) (1.21.5)\n",
      "Requirement already satisfied: matplotlib in c:\\users\\lenovo\\anaconda3\\lib\\site-packages (from wordcloud) (3.5.1)\n",
      "Requirement already satisfied: pyparsing>=2.2.1 in c:\\users\\lenovo\\anaconda3\\lib\\site-packages (from matplotlib->wordcloud) (3.0.4)\n",
      "Requirement already satisfied: python-dateutil>=2.7 in c:\\users\\lenovo\\anaconda3\\lib\\site-packages (from matplotlib->wordcloud) (2.8.2)\n",
      "Requirement already satisfied: fonttools>=4.22.0 in c:\\users\\lenovo\\anaconda3\\lib\\site-packages (from matplotlib->wordcloud) (4.25.0)\n",
      "Requirement already satisfied: cycler>=0.10 in c:\\users\\lenovo\\anaconda3\\lib\\site-packages (from matplotlib->wordcloud) (0.11.0)\n",
      "Requirement already satisfied: kiwisolver>=1.0.1 in c:\\users\\lenovo\\anaconda3\\lib\\site-packages (from matplotlib->wordcloud) (1.3.2)\n",
      "Requirement already satisfied: packaging>=20.0 in c:\\users\\lenovo\\anaconda3\\lib\\site-packages (from matplotlib->wordcloud) (21.3)\n",
      "Requirement already satisfied: six>=1.5 in c:\\users\\lenovo\\anaconda3\\lib\\site-packages (from python-dateutil>=2.7->matplotlib->wordcloud) (1.16.0)\n"
     ]
    }
   ],
   "source": [
    "!pip install wordcloud"
   ]
  },
  {
   "cell_type": "code",
   "execution_count": 37,
   "id": "6995b1df",
   "metadata": {},
   "outputs": [],
   "source": [
    "from wordcloud import WordCloud"
   ]
  },
  {
   "cell_type": "code",
   "execution_count": 38,
   "id": "02f79003",
   "metadata": {},
   "outputs": [
    {
     "ename": "ValueError",
     "evalue": "Only supported for TrueType fonts",
     "output_type": "error",
     "traceback": [
      "\u001b[1;31m---------------------------------------------------------------------------\u001b[0m",
      "\u001b[1;31mValueError\u001b[0m                                Traceback (most recent call last)",
      "Input \u001b[1;32mIn [38]\u001b[0m, in \u001b[0;36m<cell line: 2>\u001b[1;34m()\u001b[0m\n\u001b[0;32m      1\u001b[0m stop \u001b[38;5;241m=\u001b[39m [\u001b[38;5;124m\"\u001b[39m\u001b[38;5;124mhttps\u001b[39m\u001b[38;5;124m\"\u001b[39m, \u001b[38;5;124m\"\u001b[39m\u001b[38;5;124mco\u001b[39m\u001b[38;5;124m\"\u001b[39m, \u001b[38;5;124m\"\u001b[39m\u001b[38;5;124mchar\u001b[39m\u001b[38;5;124m\"\u001b[39m,\u001b[38;5;124m\"\u001b[39m\u001b[38;5;124mchars\u001b[39m\u001b[38;5;124m\"\u001b[39m] \u001b[38;5;241m+\u001b[39m \u001b[38;5;28mlist\u001b[39m(stopwords\u001b[38;5;241m.\u001b[39mwords(\u001b[38;5;124m'\u001b[39m\u001b[38;5;124menglish\u001b[39m\u001b[38;5;124m'\u001b[39m))\n\u001b[1;32m----> 2\u001b[0m wc \u001b[38;5;241m=\u001b[39m \u001b[43mWordCloud\u001b[49m\u001b[43m(\u001b[49m\u001b[43mstopwords\u001b[49m\u001b[38;5;241;43m=\u001b[39;49m\u001b[43mstop\u001b[49m\u001b[43m,\u001b[49m\u001b[43m \u001b[49m\u001b[43mmax_words\u001b[49m\u001b[38;5;241;43m=\u001b[39;49m\u001b[38;5;241;43m700\u001b[39;49m\u001b[43m,\u001b[49m\u001b[43m \u001b[49m\u001b[43mmargin\u001b[49m\u001b[38;5;241;43m=\u001b[39;49m\u001b[38;5;241;43m10\u001b[39;49m\u001b[43m,\u001b[49m\u001b[43m \u001b[49m\u001b[43mbackground_color\u001b[49m\u001b[38;5;241;43m=\u001b[39;49m\u001b[38;5;124;43m'\u001b[39;49m\u001b[38;5;124;43mblack\u001b[39;49m\u001b[38;5;124;43m'\u001b[39;49m\u001b[43m,\u001b[49m\n\u001b[0;32m      3\u001b[0m \u001b[43mscale\u001b[49m\u001b[38;5;241;43m=\u001b[39;49m\u001b[38;5;241;43m3\u001b[39;49m\u001b[43m,\u001b[49m\u001b[43m \u001b[49m\u001b[43mrelative_scaling\u001b[49m\u001b[43m \u001b[49m\u001b[38;5;241;43m=\u001b[39;49m\u001b[43m \u001b[49m\u001b[38;5;241;43m0.4\u001b[39;49m\u001b[43m,\u001b[49m\u001b[43m \u001b[49m\u001b[43mwidth\u001b[49m\u001b[38;5;241;43m=\u001b[39;49m\u001b[38;5;241;43m500\u001b[39;49m\u001b[43m,\u001b[49m\u001b[43m \u001b[49m\u001b[43mheight\u001b[49m\u001b[38;5;241;43m=\u001b[39;49m\u001b[38;5;241;43m400\u001b[39;49m\u001b[43m,\u001b[49m\n\u001b[0;32m      4\u001b[0m \u001b[43mrandom_state\u001b[49m\u001b[38;5;241;43m=\u001b[39;49m\u001b[38;5;241;43m1\u001b[39;49m\u001b[43m)\u001b[49m\u001b[38;5;241;43m.\u001b[39;49m\u001b[43mgenerate\u001b[49m\u001b[43m(\u001b[49m\u001b[38;5;124;43m'\u001b[39;49m\u001b[38;5;124;43m \u001b[39;49m\u001b[38;5;124;43m'\u001b[39;49m\u001b[38;5;241;43m.\u001b[39;49m\u001b[43mjoin\u001b[49m\u001b[43m(\u001b[49m\u001b[43mdf\u001b[49m\u001b[43m[\u001b[49m\u001b[38;5;124;43m'\u001b[39;49m\u001b[38;5;124;43mcombined_text\u001b[39;49m\u001b[38;5;124;43m'\u001b[39;49m\u001b[43m]\u001b[49m\u001b[43m)\u001b[49m\u001b[43m)\u001b[49m\n\u001b[0;32m      5\u001b[0m plt\u001b[38;5;241m.\u001b[39mfigure(figsize\u001b[38;5;241m=\u001b[39m(\u001b[38;5;241m15\u001b[39m,\u001b[38;5;241m15\u001b[39m))\n\u001b[0;32m      6\u001b[0m plt\u001b[38;5;241m.\u001b[39mimshow(wc, interpolation\u001b[38;5;241m=\u001b[39m\u001b[38;5;124m\"\u001b[39m\u001b[38;5;124mbilinear\u001b[39m\u001b[38;5;124m\"\u001b[39m)\n",
      "File \u001b[1;32m~\\anaconda3\\lib\\site-packages\\wordcloud\\wordcloud.py:639\u001b[0m, in \u001b[0;36mWordCloud.generate\u001b[1;34m(self, text)\u001b[0m\n\u001b[0;32m    624\u001b[0m \u001b[38;5;28;01mdef\u001b[39;00m \u001b[38;5;21mgenerate\u001b[39m(\u001b[38;5;28mself\u001b[39m, text):\n\u001b[0;32m    625\u001b[0m     \u001b[38;5;124;03m\"\"\"Generate wordcloud from text.\u001b[39;00m\n\u001b[0;32m    626\u001b[0m \n\u001b[0;32m    627\u001b[0m \u001b[38;5;124;03m    The input \"text\" is expected to be a natural text. If you pass a sorted\u001b[39;00m\n\u001b[1;32m   (...)\u001b[0m\n\u001b[0;32m    637\u001b[0m \u001b[38;5;124;03m    self\u001b[39;00m\n\u001b[0;32m    638\u001b[0m \u001b[38;5;124;03m    \"\"\"\u001b[39;00m\n\u001b[1;32m--> 639\u001b[0m     \u001b[38;5;28;01mreturn\u001b[39;00m \u001b[38;5;28;43mself\u001b[39;49m\u001b[38;5;241;43m.\u001b[39;49m\u001b[43mgenerate_from_text\u001b[49m\u001b[43m(\u001b[49m\u001b[43mtext\u001b[49m\u001b[43m)\u001b[49m\n",
      "File \u001b[1;32m~\\anaconda3\\lib\\site-packages\\wordcloud\\wordcloud.py:621\u001b[0m, in \u001b[0;36mWordCloud.generate_from_text\u001b[1;34m(self, text)\u001b[0m\n\u001b[0;32m    604\u001b[0m \u001b[38;5;124;03m\"\"\"Generate wordcloud from text.\u001b[39;00m\n\u001b[0;32m    605\u001b[0m \n\u001b[0;32m    606\u001b[0m \u001b[38;5;124;03mThe input \"text\" is expected to be a natural text. If you pass a sorted\u001b[39;00m\n\u001b[1;32m   (...)\u001b[0m\n\u001b[0;32m    618\u001b[0m \u001b[38;5;124;03mself\u001b[39;00m\n\u001b[0;32m    619\u001b[0m \u001b[38;5;124;03m\"\"\"\u001b[39;00m\n\u001b[0;32m    620\u001b[0m words \u001b[38;5;241m=\u001b[39m \u001b[38;5;28mself\u001b[39m\u001b[38;5;241m.\u001b[39mprocess_text(text)\n\u001b[1;32m--> 621\u001b[0m \u001b[38;5;28;43mself\u001b[39;49m\u001b[38;5;241;43m.\u001b[39;49m\u001b[43mgenerate_from_frequencies\u001b[49m\u001b[43m(\u001b[49m\u001b[43mwords\u001b[49m\u001b[43m)\u001b[49m\n\u001b[0;32m    622\u001b[0m \u001b[38;5;28;01mreturn\u001b[39;00m \u001b[38;5;28mself\u001b[39m\n",
      "File \u001b[1;32m~\\anaconda3\\lib\\site-packages\\wordcloud\\wordcloud.py:453\u001b[0m, in \u001b[0;36mWordCloud.generate_from_frequencies\u001b[1;34m(self, frequencies, max_font_size)\u001b[0m\n\u001b[0;32m    451\u001b[0m     font_size \u001b[38;5;241m=\u001b[39m \u001b[38;5;28mself\u001b[39m\u001b[38;5;241m.\u001b[39mheight\n\u001b[0;32m    452\u001b[0m \u001b[38;5;28;01melse\u001b[39;00m:\n\u001b[1;32m--> 453\u001b[0m     \u001b[38;5;28;43mself\u001b[39;49m\u001b[38;5;241;43m.\u001b[39;49m\u001b[43mgenerate_from_frequencies\u001b[49m\u001b[43m(\u001b[49m\u001b[38;5;28;43mdict\u001b[39;49m\u001b[43m(\u001b[49m\u001b[43mfrequencies\u001b[49m\u001b[43m[\u001b[49m\u001b[43m:\u001b[49m\u001b[38;5;241;43m2\u001b[39;49m\u001b[43m]\u001b[49m\u001b[43m)\u001b[49m\u001b[43m,\u001b[49m\n\u001b[0;32m    454\u001b[0m \u001b[43m                                   \u001b[49m\u001b[43mmax_font_size\u001b[49m\u001b[38;5;241;43m=\u001b[39;49m\u001b[38;5;28;43mself\u001b[39;49m\u001b[38;5;241;43m.\u001b[39;49m\u001b[43mheight\u001b[49m\u001b[43m)\u001b[49m\n\u001b[0;32m    455\u001b[0m     \u001b[38;5;66;03m# find font sizes\u001b[39;00m\n\u001b[0;32m    456\u001b[0m     sizes \u001b[38;5;241m=\u001b[39m [x[\u001b[38;5;241m1\u001b[39m] \u001b[38;5;28;01mfor\u001b[39;00m x \u001b[38;5;129;01min\u001b[39;00m \u001b[38;5;28mself\u001b[39m\u001b[38;5;241m.\u001b[39mlayout_]\n",
      "File \u001b[1;32m~\\anaconda3\\lib\\site-packages\\wordcloud\\wordcloud.py:508\u001b[0m, in \u001b[0;36mWordCloud.generate_from_frequencies\u001b[1;34m(self, frequencies, max_font_size)\u001b[0m\n\u001b[0;32m    505\u001b[0m transposed_font \u001b[38;5;241m=\u001b[39m ImageFont\u001b[38;5;241m.\u001b[39mTransposedFont(\n\u001b[0;32m    506\u001b[0m     font, orientation\u001b[38;5;241m=\u001b[39morientation)\n\u001b[0;32m    507\u001b[0m \u001b[38;5;66;03m# get size of resulting text\u001b[39;00m\n\u001b[1;32m--> 508\u001b[0m box_size \u001b[38;5;241m=\u001b[39m \u001b[43mdraw\u001b[49m\u001b[38;5;241;43m.\u001b[39;49m\u001b[43mtextbbox\u001b[49m\u001b[43m(\u001b[49m\u001b[43m(\u001b[49m\u001b[38;5;241;43m0\u001b[39;49m\u001b[43m,\u001b[49m\u001b[43m \u001b[49m\u001b[38;5;241;43m0\u001b[39;49m\u001b[43m)\u001b[49m\u001b[43m,\u001b[49m\u001b[43m \u001b[49m\u001b[43mword\u001b[49m\u001b[43m,\u001b[49m\u001b[43m \u001b[49m\u001b[43mfont\u001b[49m\u001b[38;5;241;43m=\u001b[39;49m\u001b[43mtransposed_font\u001b[49m\u001b[43m,\u001b[49m\u001b[43m \u001b[49m\u001b[43manchor\u001b[49m\u001b[38;5;241;43m=\u001b[39;49m\u001b[38;5;124;43m\"\u001b[39;49m\u001b[38;5;124;43mlt\u001b[39;49m\u001b[38;5;124;43m\"\u001b[39;49m\u001b[43m)\u001b[49m\n\u001b[0;32m    509\u001b[0m \u001b[38;5;66;03m# find possible places using integral image:\u001b[39;00m\n\u001b[0;32m    510\u001b[0m result \u001b[38;5;241m=\u001b[39m occupancy\u001b[38;5;241m.\u001b[39msample_position(box_size[\u001b[38;5;241m3\u001b[39m] \u001b[38;5;241m+\u001b[39m \u001b[38;5;28mself\u001b[39m\u001b[38;5;241m.\u001b[39mmargin,\n\u001b[0;32m    511\u001b[0m                                    box_size[\u001b[38;5;241m2\u001b[39m] \u001b[38;5;241m+\u001b[39m \u001b[38;5;28mself\u001b[39m\u001b[38;5;241m.\u001b[39mmargin,\n\u001b[0;32m    512\u001b[0m                                    random_state)\n",
      "File \u001b[1;32m~\\anaconda3\\lib\\site-packages\\PIL\\ImageDraw.py:671\u001b[0m, in \u001b[0;36mImageDraw.textbbox\u001b[1;34m(self, xy, text, font, anchor, spacing, align, direction, features, language, stroke_width, embedded_color)\u001b[0m\n\u001b[0;32m    669\u001b[0m     font \u001b[38;5;241m=\u001b[39m \u001b[38;5;28mself\u001b[39m\u001b[38;5;241m.\u001b[39mgetfont()\n\u001b[0;32m    670\u001b[0m \u001b[38;5;28;01mif\u001b[39;00m \u001b[38;5;129;01mnot\u001b[39;00m \u001b[38;5;28misinstance\u001b[39m(font, ImageFont\u001b[38;5;241m.\u001b[39mFreeTypeFont):\n\u001b[1;32m--> 671\u001b[0m     \u001b[38;5;28;01mraise\u001b[39;00m \u001b[38;5;167;01mValueError\u001b[39;00m(\u001b[38;5;124m\"\u001b[39m\u001b[38;5;124mOnly supported for TrueType fonts\u001b[39m\u001b[38;5;124m\"\u001b[39m)\n\u001b[0;32m    672\u001b[0m mode \u001b[38;5;241m=\u001b[39m \u001b[38;5;124m\"\u001b[39m\u001b[38;5;124mRGBA\u001b[39m\u001b[38;5;124m\"\u001b[39m \u001b[38;5;28;01mif\u001b[39;00m embedded_color \u001b[38;5;28;01melse\u001b[39;00m \u001b[38;5;28mself\u001b[39m\u001b[38;5;241m.\u001b[39mfontmode\n\u001b[0;32m    673\u001b[0m bbox \u001b[38;5;241m=\u001b[39m font\u001b[38;5;241m.\u001b[39mgetbbox(\n\u001b[0;32m    674\u001b[0m     text, mode, direction, features, language, stroke_width, anchor\n\u001b[0;32m    675\u001b[0m )\n",
      "\u001b[1;31mValueError\u001b[0m: Only supported for TrueType fonts"
     ]
    }
   ],
   "source": [
    "stop = [\"https\", \"co\", \"char\",\"chars\"] + list(stopwords.words('english'))\n",
    "wc = WordCloud(stopwords=stop, max_words=700, margin=10, background_color='black',\n",
    "scale=3, relative_scaling = 0.4, width=500, height=400,\n",
    "random_state=1).generate(' '.join(df['combined_text']))\n",
    "plt.figure(figsize=(15,15))\n",
    "plt.imshow(wc, interpolation=\"bilinear\")\n",
    "plt.axis(\"off\")\n",
    "plt.show()"
   ]
  },
  {
   "cell_type": "code",
   "execution_count": null,
   "id": "76dc518d",
   "metadata": {},
   "outputs": [],
   "source": [
    "# visualize the frequent words\n",
    "all_words = \" \".join([sentence for sentence in df['combined_text']])\n",
    "\n",
    "from wordcloud import WordCloud\n",
    "wordcloud = WordCloud(width=800, height=500, random_state=42, max_font_size=100).generate(all_words)\n",
    "\n",
    "# plot the graph\n",
    "plt.figure(figsize=(15,8))\n",
    "plt.imshow(wordcloud, interpolation='bilinear')\n",
    "plt.axis('off')\n",
    "plt.show()"
   ]
  },
  {
   "cell_type": "code",
   "execution_count": null,
   "id": "7f28afb2",
   "metadata": {},
   "outputs": [],
   "source": [
    "df2= headlines_polarity"
   ]
  },
  {
   "cell_type": "code",
   "execution_count": null,
   "id": "7c3915be",
   "metadata": {},
   "outputs": [],
   "source": [
    "# frequent words visualization for +ve\n",
    "all_words = \" \".join([sentence for sentence in df2['Full_News'][df2['label']==1]])\n",
    "\n",
    "wordcloud = WordCloud(width=800, height=500, random_state=42, max_font_size=100).generate(all_words)\n",
    "\n",
    "# plot the graph\n",
    "plt.figure(figsize=(15,8))\n",
    "plt.imshow(wordcloud, interpolation='bilinear')\n",
    "plt.axis('off')\n",
    "plt.show()"
   ]
  },
  {
   "cell_type": "code",
   "execution_count": null,
   "id": "c55cdcda",
   "metadata": {},
   "outputs": [],
   "source": [
    "# frequent words visualization for -ve\n",
    "all_words = \" \".join([sentence for sentence in df2['Full_News'][df2['label']==-1]])\n",
    "\n",
    "wordcloud = WordCloud(width=800, height=500, random_state=42, max_font_size=100).generate(all_words)\n",
    "\n",
    "# plot the graph\n",
    "plt.figure(figsize=(15,8))\n",
    "plt.imshow(wordcloud, interpolation='bilinear')\n",
    "plt.axis('off')\n",
    "plt.show()"
   ]
  },
  {
   "cell_type": "code",
   "execution_count": null,
   "id": "8d92f399",
   "metadata": {},
   "outputs": [],
   "source": [
    "# frequent words visualization for neutral\n",
    "all_words = \" \".join([sentence for sentence in df2['Full_News'][df2['label']==0]])\n",
    "\n",
    "wordcloud = WordCloud(width=800, height=500, random_state=42, max_font_size=100).generate(all_words)\n",
    "\n",
    "# plot the graph\n",
    "plt.figure(figsize=(15,8))\n",
    "plt.imshow(wordcloud, interpolation='bilinear')\n",
    "plt.axis('off')\n",
    "plt.show()"
   ]
  },
  {
   "cell_type": "code",
   "execution_count": null,
   "id": "59fb344f",
   "metadata": {},
   "outputs": [],
   "source": [
    "# feature extraction\n",
    "from sklearn.feature_extraction.text import CountVectorizer\n",
    "bow_vectorizer = CountVectorizer(max_df=0.90, min_df=5, stop_words='english')\n",
    "bow = bow_vectorizer.fit_transform(headlines_polarity['Full_News'])"
   ]
  },
  {
   "cell_type": "code",
   "execution_count": null,
   "id": "1f0e45a8",
   "metadata": {},
   "outputs": [],
   "source": [
    "from sklearn.model_selection import train_test_split\n",
    "x_train, x_test, y_train, y_test = train_test_split(bow, headlines_polarity['label'], random_state=42, test_size=0.30)"
   ]
  },
  {
   "cell_type": "markdown",
   "id": "491b524e",
   "metadata": {},
   "source": [
    "LR"
   ]
  },
  {
   "cell_type": "code",
   "execution_count": null,
   "id": "e18dc30a",
   "metadata": {},
   "outputs": [],
   "source": [
    "from sklearn.linear_model import LogisticRegression\n",
    "from sklearn.metrics import f1_score, accuracy_score"
   ]
  },
  {
   "cell_type": "code",
   "execution_count": null,
   "id": "eed18982",
   "metadata": {},
   "outputs": [],
   "source": [
    "#LogisticRegression\n",
    "model = LogisticRegression()\n",
    "model.fit(x_train, y_train)"
   ]
  },
  {
   "cell_type": "code",
   "execution_count": null,
   "id": "83b6b86b",
   "metadata": {},
   "outputs": [],
   "source": [
    "pred= model.predict(x_test)"
   ]
  },
  {
   "cell_type": "code",
   "execution_count": null,
   "id": "cbd3bf6f",
   "metadata": {},
   "outputs": [],
   "source": [
    "accuracy_score(y_test,pred)"
   ]
  },
  {
   "cell_type": "code",
   "execution_count": null,
   "id": "89d0e562",
   "metadata": {},
   "outputs": [],
   "source": [
    "from sklearn.metrics import classification_report, confusion_matrix"
   ]
  },
  {
   "cell_type": "code",
   "execution_count": null,
   "id": "372fc90a",
   "metadata": {},
   "outputs": [],
   "source": [
    "print(classification_report(y_test,pred))"
   ]
  },
  {
   "cell_type": "code",
   "execution_count": null,
   "id": "89ee34ce",
   "metadata": {},
   "outputs": [],
   "source": [
    "pred= model.predict(x_test)\n",
    "cm = confusion_matrix(y_test,pred)\n",
    "sns.heatmap(cm, annot = True)"
   ]
  },
  {
   "cell_type": "code",
   "execution_count": null,
   "id": "aa8448ec",
   "metadata": {},
   "outputs": [],
   "source": [
    "cm_df = pd.DataFrame(cm,\n",
    "                     index = ['-1','0','1'], \n",
    "                     columns = ['-1','0','1'])"
   ]
  },
  {
   "cell_type": "code",
   "execution_count": null,
   "id": "8fcae82f",
   "metadata": {},
   "outputs": [],
   "source": [
    "plt.figure(figsize=(5,4))\n",
    "sns.heatmap(cm_df, annot=True)\n",
    "plt.title('Confusion Matrix')\n",
    "plt.ylabel('Actual Values')\n",
    "plt.xlabel('Predicted Values')\n",
    "plt.show()\n"
   ]
  },
  {
   "cell_type": "code",
   "execution_count": null,
   "id": "7ee78991",
   "metadata": {},
   "outputs": [],
   "source": [
    "from sklearn.metrics import roc_curve,auc"
   ]
  },
  {
   "cell_type": "code",
   "execution_count": null,
   "id": "50d6f77b",
   "metadata": {},
   "outputs": [],
   "source": [
    "def plot_roc(y_test, probs): \n",
    "    fpr,tpr, threshold=roc_curve(y_test,probs)\n",
    "    roc_auc=auc(fpr, tpr)\n",
    "    print('ROC AUC=%0.2f'%roc_auc)\n",
    "    plt.plot(fpr, tpr, label='AUC=%0.2f'%roc_auc, color=\"darkorange\")\n",
    "    plt.legend(loc= 'lower right')\n",
    "    plt.plot([0,1], [0,1],'b--')\n",
    "    plt.xlim([0,1])\n",
    "    plt.ylim([0,1.05])\n",
    "    plt.xlabel('False Positive Rate')\n",
    "    plt.ylabel('True Positive Rate')\n",
    "    plt.show() "
   ]
  },
  {
   "cell_type": "code",
   "execution_count": null,
   "id": "e1911269",
   "metadata": {},
   "outputs": [],
   "source": [
    "pred_prob = model.decision_function(x_test)"
   ]
  },
  {
   "cell_type": "markdown",
   "id": "4ad2c46e",
   "metadata": {},
   "source": [
    "NV"
   ]
  },
  {
   "cell_type": "code",
   "execution_count": null,
   "id": "fc2b49c5",
   "metadata": {},
   "outputs": [],
   "source": [
    "#naive bayes\n",
    "from sklearn.naive_bayes import MultinomialNB"
   ]
  },
  {
   "cell_type": "code",
   "execution_count": null,
   "id": "8da9c187",
   "metadata": {},
   "outputs": [],
   "source": [
    "NB_Classifier = MultinomialNB()\n",
    "NB_Classifier.fit(x_train, y_train)"
   ]
  },
  {
   "cell_type": "code",
   "execution_count": null,
   "id": "fd3e9739",
   "metadata": {},
   "outputs": [],
   "source": [
    "pred_nb = NB_Classifier.predict(x_test)"
   ]
  },
  {
   "cell_type": "code",
   "execution_count": null,
   "id": "fea4451e",
   "metadata": {},
   "outputs": [],
   "source": [
    "accuracy_score(y_test, pred_nb)"
   ]
  },
  {
   "cell_type": "code",
   "execution_count": null,
   "id": "8ea26378",
   "metadata": {},
   "outputs": [],
   "source": [
    "print(classification_report(y_test, pred_nb))"
   ]
  },
  {
   "cell_type": "code",
   "execution_count": null,
   "id": "a3d0a8ff",
   "metadata": {},
   "outputs": [],
   "source": [
    "pred_nb = NB_Classifier.predict(x_test)\n",
    "cm = confusion_matrix(y_test,pred_nb)\n",
    "sns.heatmap(cm, annot = True)"
   ]
  },
  {
   "cell_type": "code",
   "execution_count": null,
   "id": "599e3069",
   "metadata": {},
   "outputs": [],
   "source": [
    "cm_df = pd.DataFrame(cm,\n",
    "                     index = ['-1','0','1'], \n",
    "                     columns = ['-1','0','1'])"
   ]
  },
  {
   "cell_type": "code",
   "execution_count": null,
   "id": "a1008917",
   "metadata": {},
   "outputs": [],
   "source": [
    "plt.figure(figsize=(5,4))\n",
    "sns.heatmap(cm_df, annot=True)\n",
    "plt.title('Confusion Matrix')\n",
    "plt.ylabel('Actual Values')\n",
    "plt.xlabel('Predicted Values')\n",
    "plt.show()\n"
   ]
  },
  {
   "cell_type": "code",
   "execution_count": null,
   "id": "8820975c",
   "metadata": {},
   "outputs": [],
   "source": [
    "nb_pred_prob = NB_Classifier.predict_proba(x_test) [:,1]"
   ]
  },
  {
   "cell_type": "markdown",
   "id": "780dab32",
   "metadata": {},
   "source": [
    "SVM"
   ]
  },
  {
   "cell_type": "code",
   "execution_count": null,
   "id": "9f028478",
   "metadata": {},
   "outputs": [],
   "source": [
    "#svm\n",
    "from sklearn import svm\n",
    "from sklearn import metrics"
   ]
  },
  {
   "cell_type": "code",
   "execution_count": null,
   "id": "0fbf1c56",
   "metadata": {},
   "outputs": [],
   "source": [
    "cls = svm.SVC(kernel = \"linear\")"
   ]
  },
  {
   "cell_type": "code",
   "execution_count": null,
   "id": "55400452",
   "metadata": {},
   "outputs": [],
   "source": [
    "cls.fit(x_train, y_train)"
   ]
  },
  {
   "cell_type": "code",
   "execution_count": null,
   "id": "010239ad",
   "metadata": {},
   "outputs": [],
   "source": [
    "pred = cls.predict(x_test)"
   ]
  },
  {
   "cell_type": "code",
   "execution_count": null,
   "id": "bff05427",
   "metadata": {},
   "outputs": [],
   "source": [
    "print(\"accuracy:\", metrics.accuracy_score(y_test,y_pred = pred))"
   ]
  },
  {
   "cell_type": "code",
   "execution_count": null,
   "id": "e4d1a37a",
   "metadata": {},
   "outputs": [],
   "source": [
    "print(classification_report(y_test, pred))"
   ]
  },
  {
   "cell_type": "code",
   "execution_count": null,
   "id": "4cba9a23",
   "metadata": {},
   "outputs": [],
   "source": [
    "y_pred= cls.predict(x_test)\n",
    "cm = confusion_matrix(y_test,y_pred)\n",
    "sns.heatmap(cm, annot = True)"
   ]
  },
  {
   "cell_type": "code",
   "execution_count": null,
   "id": "ed415685",
   "metadata": {},
   "outputs": [],
   "source": [
    "cm_df = pd.DataFrame(cm,\n",
    "                     index = ['-1','0','1'], \n",
    "                     columns = ['-1','0','1'])"
   ]
  },
  {
   "cell_type": "code",
   "execution_count": null,
   "id": "0cb6265c",
   "metadata": {},
   "outputs": [],
   "source": [
    "plt.figure(figsize=(5,4))\n",
    "sns.heatmap(cm_df, annot=True)\n",
    "plt.title('Confusion Matrix')\n",
    "plt.ylabel('Actual Values')\n",
    "plt.xlabel('Predicted Values')\n",
    "plt.show()\n"
   ]
  },
  {
   "cell_type": "code",
   "execution_count": null,
   "id": "76126f8b",
   "metadata": {},
   "outputs": [],
   "source": [
    "prob_y_pred= cls.decision_function(x_test)"
   ]
  },
  {
   "cell_type": "markdown",
   "id": "c943112e",
   "metadata": {},
   "source": [
    "SVC"
   ]
  },
  {
   "cell_type": "code",
   "execution_count": null,
   "id": "eb22664b",
   "metadata": {},
   "outputs": [],
   "source": [
    "#LinearSVC\n",
    "from sklearn.svm import LinearSVC"
   ]
  },
  {
   "cell_type": "code",
   "execution_count": null,
   "id": "fe47f5ed",
   "metadata": {},
   "outputs": [],
   "source": [
    "SVCmodel = LinearSVC()\n",
    "SVCmodel.fit(x_train, y_train)"
   ]
  },
  {
   "cell_type": "code",
   "execution_count": null,
   "id": "c41abf5b",
   "metadata": {},
   "outputs": [],
   "source": [
    "svc_pred = SVCmodel.predict(x_test)\n",
    "svc_acc = accuracy_score(svc_pred, y_test)\n",
    "print(svc_acc)"
   ]
  },
  {
   "cell_type": "code",
   "execution_count": null,
   "id": "972dd4dd",
   "metadata": {},
   "outputs": [],
   "source": [
    "print(\"test accuracy:  {: .2f}%\" .format(svc_acc*100))"
   ]
  },
  {
   "cell_type": "code",
   "execution_count": null,
   "id": "55343c57",
   "metadata": {},
   "outputs": [],
   "source": [
    "print(classification_report(y_test,svc_pred))"
   ]
  },
  {
   "cell_type": "code",
   "execution_count": null,
   "id": "3084c051",
   "metadata": {},
   "outputs": [],
   "source": [
    "cm = confusion_matrix(y_test,svc_pred)\n",
    "sns.heatmap(cm, annot = True)"
   ]
  },
  {
   "cell_type": "code",
   "execution_count": null,
   "id": "79582c7d",
   "metadata": {},
   "outputs": [],
   "source": [
    "cm_df = pd.DataFrame(cm,\n",
    "                     index = ['-1','0','1'], \n",
    "                     columns = ['-1','0','1'])"
   ]
  },
  {
   "cell_type": "code",
   "execution_count": null,
   "id": "82dd88b5",
   "metadata": {},
   "outputs": [],
   "source": [
    "plt.figure(figsize=(5,4))\n",
    "sns.heatmap(cm_df, annot=True)\n",
    "plt.title('Confusion Matrix')\n",
    "plt.ylabel('Actual Values')\n",
    "plt.xlabel('Predicted Values')\n",
    "plt.show()"
   ]
  },
  {
   "cell_type": "code",
   "execution_count": null,
   "id": "3a12ddc7",
   "metadata": {},
   "outputs": [],
   "source": [
    "svc_pred_prob = SVCmodel.decision_function(x_test)"
   ]
  },
  {
   "cell_type": "code",
   "execution_count": null,
   "id": "087378cc",
   "metadata": {},
   "outputs": [],
   "source": [
    "plot_roc(y_test, svc_pred_prob)"
   ]
  },
  {
   "cell_type": "code",
   "execution_count": null,
   "id": "8a916882",
   "metadata": {},
   "outputs": [],
   "source": []
  },
  {
   "cell_type": "code",
   "execution_count": null,
   "id": "18c795de",
   "metadata": {},
   "outputs": [],
   "source": []
  },
  {
   "cell_type": "markdown",
   "id": "a92b9301",
   "metadata": {},
   "source": [
    "RF"
   ]
  },
  {
   "cell_type": "code",
   "execution_count": null,
   "id": "7ebac6e1",
   "metadata": {},
   "outputs": [],
   "source": [
    "from sklearn.ensemble import  RandomForestClassifier"
   ]
  },
  {
   "cell_type": "code",
   "execution_count": null,
   "id": "3798f32f",
   "metadata": {},
   "outputs": [],
   "source": [
    "rf=RandomForestClassifier()\n",
    "rf.fit(x_train, y_train) \n",
    "pred_rf=rf.predict(x_test) "
   ]
  },
  {
   "cell_type": "code",
   "execution_count": null,
   "id": "04bcf5c6",
   "metadata": {},
   "outputs": [],
   "source": [
    "rf_acc = accuracy_score(pred_rf, y_test)\n",
    "print(rf_acc)"
   ]
  },
  {
   "cell_type": "code",
   "execution_count": null,
   "id": "92850ec8",
   "metadata": {},
   "outputs": [],
   "source": [
    "print(classification_report(y_test,pred_rf))"
   ]
  },
  {
   "cell_type": "code",
   "execution_count": null,
   "id": "0a60c098",
   "metadata": {},
   "outputs": [],
   "source": [
    "pred_rf= rf.predict(x_test)\n",
    "cm = confusion_matrix(y_test,pred_rf)\n",
    "sns.heatmap(cm, annot = True)"
   ]
  },
  {
   "cell_type": "code",
   "execution_count": null,
   "id": "0409d661",
   "metadata": {},
   "outputs": [],
   "source": [
    "cm_df = pd.DataFrame(cm,\n",
    "                     index = ['-1','0','1'], \n",
    "                     columns = ['-1','0','1'])"
   ]
  },
  {
   "cell_type": "code",
   "execution_count": null,
   "id": "0bcdef76",
   "metadata": {},
   "outputs": [],
   "source": [
    "plt.figure(figsize=(5,4))\n",
    "sns.heatmap(cm_df, annot=True)\n",
    "plt.title('Confusion Matrix')\n",
    "plt.ylabel('Actual Values')\n",
    "plt.xlabel('Predicted Values')\n",
    "plt.show()\n"
   ]
  },
  {
   "cell_type": "code",
   "execution_count": null,
   "id": "a6d23425",
   "metadata": {},
   "outputs": [],
   "source": [
    "prob_rf= rf.predict_proba(x_test) [:,1]"
   ]
  },
  {
   "cell_type": "code",
   "execution_count": null,
   "id": "6a7bc814",
   "metadata": {},
   "outputs": [],
   "source": [
    "plot_roc(y_test, prob_rf)"
   ]
  },
  {
   "cell_type": "markdown",
   "id": "fbe28b09",
   "metadata": {},
   "source": [
    "KNN"
   ]
  },
  {
   "cell_type": "code",
   "execution_count": null,
   "id": "a0438b44",
   "metadata": {},
   "outputs": [],
   "source": [
    "from sklearn.neighbors import KNeighborsClassifier"
   ]
  },
  {
   "cell_type": "code",
   "execution_count": null,
   "id": "cfcdb4d8",
   "metadata": {},
   "outputs": [],
   "source": [
    "knn = KNeighborsClassifier(n_neighbors=5, metric='euclidean')\n",
    "knn.fit(x_train, y_train)"
   ]
  },
  {
   "cell_type": "code",
   "execution_count": null,
   "id": "2b6e9f08",
   "metadata": {},
   "outputs": [],
   "source": [
    "y_pred_knn = knn.predict(x_test)"
   ]
  },
  {
   "cell_type": "code",
   "execution_count": null,
   "id": "f2eebac7",
   "metadata": {},
   "outputs": [],
   "source": [
    "knn_acc = accuracy_score(y_pred_knn, y_test)\n",
    "print(knn_acc)"
   ]
  },
  {
   "cell_type": "code",
   "execution_count": null,
   "id": "c9ed1e05",
   "metadata": {},
   "outputs": [],
   "source": [
    "print(classification_report(y_test,y_pred_knn))"
   ]
  },
  {
   "cell_type": "code",
   "execution_count": null,
   "id": "582dbb2a",
   "metadata": {},
   "outputs": [],
   "source": [
    "\n",
    "cm = confusion_matrix(y_test,y_pred_knn)\n"
   ]
  },
  {
   "cell_type": "code",
   "execution_count": null,
   "id": "6b1adb0d",
   "metadata": {},
   "outputs": [],
   "source": [
    "cm_df = pd.DataFrame(cm,\n",
    "                     index = ['-1','0','1'], \n",
    "                     columns = ['-1','0','1'])"
   ]
  },
  {
   "cell_type": "code",
   "execution_count": null,
   "id": "95de79ed",
   "metadata": {},
   "outputs": [],
   "source": [
    "plt.figure(figsize=(5,4))\n",
    "sns.heatmap(cm_df, annot=True)\n",
    "plt.title('Confusion Matrix')\n",
    "plt.ylabel('Actual Values')\n",
    "plt.xlabel('Predicted Values')\n",
    "plt.show()\n"
   ]
  },
  {
   "cell_type": "code",
   "execution_count": null,
   "id": "d3317404",
   "metadata": {},
   "outputs": [],
   "source": [
    "prob_knn = knn.predict_proba(x_test) [:,1]"
   ]
  },
  {
   "cell_type": "code",
   "execution_count": null,
   "id": "377283df",
   "metadata": {},
   "outputs": [],
   "source": [
    "plot_roc(y_test, prob_knn)"
   ]
  }
 ],
 "metadata": {
  "kernelspec": {
   "display_name": "Python 3 (ipykernel)",
   "language": "python",
   "name": "python3"
  },
  "language_info": {
   "codemirror_mode": {
    "name": "ipython",
    "version": 3
   },
   "file_extension": ".py",
   "mimetype": "text/x-python",
   "name": "python",
   "nbconvert_exporter": "python",
   "pygments_lexer": "ipython3",
   "version": "3.9.12"
  }
 },
 "nbformat": 4,
 "nbformat_minor": 5
}
