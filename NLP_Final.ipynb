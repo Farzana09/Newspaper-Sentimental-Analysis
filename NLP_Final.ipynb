{
 "cells": [
  {
   "cell_type": "code",
   "execution_count": 1,
   "id": "6a4b09d4",
   "metadata": {},
   "outputs": [],
   "source": [
    "import requests\n",
    "import json\n",
    "import numpy as np\n",
    "import pandas as pd\n",
    "import nltk \n",
    "import matplotlib\n",
    "from nltk.tokenize import sent_tokenize, word_tokenize\n",
    "from nltk.corpus import stopwords\n",
    "from string import punctuation\n",
    "import re\n",
    "import numpy as np\n",
    "from nltk.tokenize import RegexpTokenizer\n",
    "from nltk.stem import WordNetLemmatizer"
   ]
  },
  {
   "cell_type": "code",
   "execution_count": 2,
   "id": "fa6f92e6",
   "metadata": {},
   "outputs": [
    {
     "name": "stdout",
     "output_type": "stream",
     "text": [
      "Requirement already satisfied: rake-nltk in c:\\users\\lenovo\\anaconda3\\lib\\site-packages (1.0.6)\n",
      "Requirement already satisfied: nltk<4.0.0,>=3.6.2 in c:\\users\\lenovo\\anaconda3\\lib\\site-packages (from rake-nltk) (3.7)\n",
      "Requirement already satisfied: joblib in c:\\users\\lenovo\\anaconda3\\lib\\site-packages (from nltk<4.0.0,>=3.6.2->rake-nltk) (1.1.0)\n",
      "Requirement already satisfied: tqdm in c:\\users\\lenovo\\anaconda3\\lib\\site-packages (from nltk<4.0.0,>=3.6.2->rake-nltk) (4.64.0)\n",
      "Requirement already satisfied: click in c:\\users\\lenovo\\anaconda3\\lib\\site-packages (from nltk<4.0.0,>=3.6.2->rake-nltk) (8.0.4)\n",
      "Requirement already satisfied: regex>=2021.8.3 in c:\\users\\lenovo\\anaconda3\\lib\\site-packages (from nltk<4.0.0,>=3.6.2->rake-nltk) (2022.3.15)\n",
      "Requirement already satisfied: colorama in c:\\users\\lenovo\\anaconda3\\lib\\site-packages (from click->nltk<4.0.0,>=3.6.2->rake-nltk) (0.4.4)\n",
      "Note: you may need to restart the kernel to use updated packages.\n"
     ]
    }
   ],
   "source": [
    "pip install rake-nltk"
   ]
  },
  {
   "cell_type": "code",
   "execution_count": 3,
   "id": "cf47a763",
   "metadata": {},
   "outputs": [],
   "source": [
    "from rake_nltk import Rake "
   ]
  },
  {
   "cell_type": "code",
   "execution_count": 4,
   "id": "631f19a3",
   "metadata": {},
   "outputs": [],
   "source": [
    "df = pd.read_csv('Bangladesh_Post.csv')"
   ]
  },
  {
   "cell_type": "code",
   "execution_count": 5,
   "id": "525d4a09",
   "metadata": {},
   "outputs": [
    {
     "data": {
      "text/html": [
       "<div>\n",
       "<style scoped>\n",
       "    .dataframe tbody tr th:only-of-type {\n",
       "        vertical-align: middle;\n",
       "    }\n",
       "\n",
       "    .dataframe tbody tr th {\n",
       "        vertical-align: top;\n",
       "    }\n",
       "\n",
       "    .dataframe thead th {\n",
       "        text-align: right;\n",
       "    }\n",
       "</style>\n",
       "<table border=\"1\" class=\"dataframe\">\n",
       "  <thead>\n",
       "    <tr style=\"text-align: right;\">\n",
       "      <th></th>\n",
       "      <th>Serial</th>\n",
       "      <th>Headline</th>\n",
       "      <th>News</th>\n",
       "      <th>Date</th>\n",
       "      <th>Publisher</th>\n",
       "    </tr>\n",
       "  </thead>\n",
       "  <tbody>\n",
       "    <tr>\n",
       "      <th>0</th>\n",
       "      <td>1</td>\n",
       "      <td>NaN</td>\n",
       "      <td>NaN</td>\n",
       "      <td>5/1/2022</td>\n",
       "      <td>Bangladesh Post</td>\n",
       "    </tr>\n",
       "    <tr>\n",
       "      <th>1</th>\n",
       "      <td>2</td>\n",
       "      <td>NaN</td>\n",
       "      <td>NaN</td>\n",
       "      <td>5/2/2022</td>\n",
       "      <td>Bangladesh Post</td>\n",
       "    </tr>\n",
       "    <tr>\n",
       "      <th>2</th>\n",
       "      <td>3</td>\n",
       "      <td>NaN</td>\n",
       "      <td>NaN</td>\n",
       "      <td>5/3/2022</td>\n",
       "      <td>Bangladesh Post</td>\n",
       "    </tr>\n",
       "    <tr>\n",
       "      <th>3</th>\n",
       "      <td>4</td>\n",
       "      <td>NaN</td>\n",
       "      <td>NaN</td>\n",
       "      <td>5/4/2022</td>\n",
       "      <td>Bangladesh Post</td>\n",
       "    </tr>\n",
       "    <tr>\n",
       "      <th>4</th>\n",
       "      <td>5</td>\n",
       "      <td>LPG price drops Tk 8.68 a kg</td>\n",
       "      <td>After 3 months of continuous upward trend in p...</td>\n",
       "      <td>5/5/2022</td>\n",
       "      <td>Bangladesh Post</td>\n",
       "    </tr>\n",
       "    <tr>\n",
       "      <th>...</th>\n",
       "      <td>...</td>\n",
       "      <td>...</td>\n",
       "      <td>...</td>\n",
       "      <td>...</td>\n",
       "      <td>...</td>\n",
       "    </tr>\n",
       "    <tr>\n",
       "      <th>1996</th>\n",
       "      <td>1997</td>\n",
       "      <td>Russia’s withdrawal may invite global hunger?</td>\n",
       "      <td>Russia’s decision to pull out of an agreement ...</td>\n",
       "      <td>10/31/2022</td>\n",
       "      <td>Bangladesh Post</td>\n",
       "    </tr>\n",
       "    <tr>\n",
       "      <th>1997</th>\n",
       "      <td>1998</td>\n",
       "      <td>Arrest of public servants\\nBill withdrawn from...</td>\n",
       "      <td>The Public Service (Amendment) Bill, 2022 was ...</td>\n",
       "      <td>10/31/2022</td>\n",
       "      <td>Bangladesh Post</td>\n",
       "    </tr>\n",
       "    <tr>\n",
       "      <th>1998</th>\n",
       "      <td>1999</td>\n",
       "      <td>Bangladesh can raise up to $12.5b in addl fina...</td>\n",
       "      <td>Bangladesh can raise up to $12.5 billion in ad...</td>\n",
       "      <td>10/31/2022</td>\n",
       "      <td>Bangladesh Post</td>\n",
       "    </tr>\n",
       "    <tr>\n",
       "      <th>1999</th>\n",
       "      <td>2000</td>\n",
       "      <td>Bankrupt Sri Lanka’s inflation dips to 66pc</td>\n",
       "      <td>Inflation in crisis-hit Sri Lanka dipped margi...</td>\n",
       "      <td>10/31/2022</td>\n",
       "      <td>Bangladesh Post</td>\n",
       "    </tr>\n",
       "    <tr>\n",
       "      <th>2000</th>\n",
       "      <td>2001</td>\n",
       "      <td>Death toll from Gujarat cable bridge collapse ...</td>\n",
       "      <td>The death toll from India's Gujarat cable brid...</td>\n",
       "      <td>10/31/2022</td>\n",
       "      <td>Bangladesh Post</td>\n",
       "    </tr>\n",
       "  </tbody>\n",
       "</table>\n",
       "<p>2001 rows × 5 columns</p>\n",
       "</div>"
      ],
      "text/plain": [
       "      Serial                                            Headline  \\\n",
       "0           1                                                NaN   \n",
       "1           2                                                NaN   \n",
       "2           3                                                NaN   \n",
       "3           4                                                NaN   \n",
       "4           5                       LPG price drops Tk 8.68 a kg   \n",
       "...       ...                                                ...   \n",
       "1996     1997      Russia’s withdrawal may invite global hunger?   \n",
       "1997     1998  Arrest of public servants\\nBill withdrawn from...   \n",
       "1998     1999  Bangladesh can raise up to $12.5b in addl fina...   \n",
       "1999     2000        Bankrupt Sri Lanka’s inflation dips to 66pc   \n",
       "2000     2001  Death toll from Gujarat cable bridge collapse ...   \n",
       "\n",
       "                                                   News        Date  \\\n",
       "0                                                   NaN    5/1/2022   \n",
       "1                                                   NaN    5/2/2022   \n",
       "2                                                   NaN    5/3/2022   \n",
       "3                                                   NaN    5/4/2022   \n",
       "4     After 3 months of continuous upward trend in p...    5/5/2022   \n",
       "...                                                 ...         ...   \n",
       "1996  Russia’s decision to pull out of an agreement ...  10/31/2022   \n",
       "1997  The Public Service (Amendment) Bill, 2022 was ...  10/31/2022   \n",
       "1998  Bangladesh can raise up to $12.5 billion in ad...  10/31/2022   \n",
       "1999  Inflation in crisis-hit Sri Lanka dipped margi...  10/31/2022   \n",
       "2000  The death toll from India's Gujarat cable brid...  10/31/2022   \n",
       "\n",
       "            Publisher  \n",
       "0     Bangladesh Post  \n",
       "1     Bangladesh Post  \n",
       "2     Bangladesh Post  \n",
       "3     Bangladesh Post  \n",
       "4     Bangladesh Post  \n",
       "...               ...  \n",
       "1996  Bangladesh Post  \n",
       "1997  Bangladesh Post  \n",
       "1998  Bangladesh Post  \n",
       "1999  Bangladesh Post  \n",
       "2000  Bangladesh Post  \n",
       "\n",
       "[2001 rows x 5 columns]"
      ]
     },
     "execution_count": 5,
     "metadata": {},
     "output_type": "execute_result"
    }
   ],
   "source": [
    "df"
   ]
  },
  {
   "cell_type": "code",
   "execution_count": 6,
   "id": "b442128d",
   "metadata": {},
   "outputs": [
    {
     "data": {
      "text/plain": [
       "Serial        0\n",
       "Headline     12\n",
       "News         12\n",
       "Date          0\n",
       "Publisher     0\n",
       "dtype: int64"
      ]
     },
     "execution_count": 6,
     "metadata": {},
     "output_type": "execute_result"
    }
   ],
   "source": [
    "df.isnull().sum() "
   ]
  },
  {
   "cell_type": "code",
   "execution_count": 7,
   "id": "9a86cae6",
   "metadata": {},
   "outputs": [
    {
     "data": {
      "text/plain": [
       "Serial       2001\n",
       "Headline     1979\n",
       "News         1989\n",
       "Date          184\n",
       "Publisher       1\n",
       "dtype: int64"
      ]
     },
     "execution_count": 7,
     "metadata": {},
     "output_type": "execute_result"
    }
   ],
   "source": [
    "df.nunique()"
   ]
  },
  {
   "cell_type": "code",
   "execution_count": 8,
   "id": "5ea0cd5a",
   "metadata": {},
   "outputs": [
    {
     "name": "stdout",
     "output_type": "stream",
     "text": [
      "<class 'pandas.core.frame.DataFrame'>\n",
      "RangeIndex: 2001 entries, 0 to 2000\n",
      "Data columns (total 5 columns):\n",
      " #   Column     Non-Null Count  Dtype \n",
      "---  ------     --------------  ----- \n",
      " 0   Serial     2001 non-null   int64 \n",
      " 1   Headline   1989 non-null   object\n",
      " 2   News       1989 non-null   object\n",
      " 3   Date       2001 non-null   object\n",
      " 4   Publisher  2001 non-null   object\n",
      "dtypes: int64(1), object(4)\n",
      "memory usage: 78.3+ KB\n"
     ]
    }
   ],
   "source": [
    "df.info()"
   ]
  },
  {
   "cell_type": "code",
   "execution_count": 9,
   "id": "4ea622f1",
   "metadata": {},
   "outputs": [],
   "source": [
    "import matplotlib.pyplot as plt\n",
    "import seaborn as sns"
   ]
  },
  {
   "cell_type": "code",
   "execution_count": 10,
   "id": "4e98f9a1",
   "metadata": {},
   "outputs": [
    {
     "data": {
      "text/plain": [
       "<AxesSubplot:xlabel='Publisher', ylabel='count'>"
      ]
     },
     "execution_count": 10,
     "metadata": {},
     "output_type": "execute_result"
    },
    {
     "data": {
      "image/png": "[encoded data removed]",
      "text/plain": [
       "<Figure size 720x504 with 1 Axes>"
      ]
     },
     "metadata": {
      "needs_background": "light"
     },
     "output_type": "display_data"
    }
   ],
   "source": [
    "plt.figure(figsize=(10,7))\n",
    "\n",
    "sns.countplot(x='Publisher', data=df)"
   ]
  },
  {
   "cell_type": "code",
   "execution_count": 11,
   "id": "781a9dbf",
   "metadata": {},
   "outputs": [],
   "source": [
    "df['combined_text'] = df['Headline'].map(str) +\" \"+ df['News'].map(str) "
   ]
  },
  {
   "cell_type": "code",
   "execution_count": 12,
   "id": "09375fe7",
   "metadata": {},
   "outputs": [
    {
     "data": {
      "text/html": [
       "<div>\n",
       "<style scoped>\n",
       "    .dataframe tbody tr th:only-of-type {\n",
       "        vertical-align: middle;\n",
       "    }\n",
       "\n",
       "    .dataframe tbody tr th {\n",
       "        vertical-align: top;\n",
       "    }\n",
       "\n",
       "    .dataframe thead th {\n",
       "        text-align: right;\n",
       "    }\n",
       "</style>\n",
       "<table border=\"1\" class=\"dataframe\">\n",
       "  <thead>\n",
       "    <tr style=\"text-align: right;\">\n",
       "      <th></th>\n",
       "      <th>Serial</th>\n",
       "      <th>Headline</th>\n",
       "      <th>News</th>\n",
       "      <th>Date</th>\n",
       "      <th>Publisher</th>\n",
       "      <th>combined_text</th>\n",
       "    </tr>\n",
       "  </thead>\n",
       "  <tbody>\n",
       "    <tr>\n",
       "      <th>0</th>\n",
       "      <td>1</td>\n",
       "      <td>NaN</td>\n",
       "      <td>NaN</td>\n",
       "      <td>5/1/2022</td>\n",
       "      <td>Bangladesh Post</td>\n",
       "      <td>nan nan</td>\n",
       "    </tr>\n",
       "    <tr>\n",
       "      <th>1</th>\n",
       "      <td>2</td>\n",
       "      <td>NaN</td>\n",
       "      <td>NaN</td>\n",
       "      <td>5/2/2022</td>\n",
       "      <td>Bangladesh Post</td>\n",
       "      <td>nan nan</td>\n",
       "    </tr>\n",
       "    <tr>\n",
       "      <th>2</th>\n",
       "      <td>3</td>\n",
       "      <td>NaN</td>\n",
       "      <td>NaN</td>\n",
       "      <td>5/3/2022</td>\n",
       "      <td>Bangladesh Post</td>\n",
       "      <td>nan nan</td>\n",
       "    </tr>\n",
       "    <tr>\n",
       "      <th>3</th>\n",
       "      <td>4</td>\n",
       "      <td>NaN</td>\n",
       "      <td>NaN</td>\n",
       "      <td>5/4/2022</td>\n",
       "      <td>Bangladesh Post</td>\n",
       "      <td>nan nan</td>\n",
       "    </tr>\n",
       "    <tr>\n",
       "      <th>4</th>\n",
       "      <td>5</td>\n",
       "      <td>LPG price drops Tk 8.68 a kg</td>\n",
       "      <td>After 3 months of continuous upward trend in p...</td>\n",
       "      <td>5/5/2022</td>\n",
       "      <td>Bangladesh Post</td>\n",
       "      <td>LPG price drops Tk 8.68 a kg After 3 months of...</td>\n",
       "    </tr>\n",
       "    <tr>\n",
       "      <th>...</th>\n",
       "      <td>...</td>\n",
       "      <td>...</td>\n",
       "      <td>...</td>\n",
       "      <td>...</td>\n",
       "      <td>...</td>\n",
       "      <td>...</td>\n",
       "    </tr>\n",
       "    <tr>\n",
       "      <th>1996</th>\n",
       "      <td>1997</td>\n",
       "      <td>Russia’s withdrawal may invite global hunger?</td>\n",
       "      <td>Russia’s decision to pull out of an agreement ...</td>\n",
       "      <td>10/31/2022</td>\n",
       "      <td>Bangladesh Post</td>\n",
       "      <td>Russia’s withdrawal may invite global hunger? ...</td>\n",
       "    </tr>\n",
       "    <tr>\n",
       "      <th>1997</th>\n",
       "      <td>1998</td>\n",
       "      <td>Arrest of public servants\\nBill withdrawn from...</td>\n",
       "      <td>The Public Service (Amendment) Bill, 2022 was ...</td>\n",
       "      <td>10/31/2022</td>\n",
       "      <td>Bangladesh Post</td>\n",
       "      <td>Arrest of public servants\\nBill withdrawn from...</td>\n",
       "    </tr>\n",
       "    <tr>\n",
       "      <th>1998</th>\n",
       "      <td>1999</td>\n",
       "      <td>Bangladesh can raise up to $12.5b in addl fina...</td>\n",
       "      <td>Bangladesh can raise up to $12.5 billion in ad...</td>\n",
       "      <td>10/31/2022</td>\n",
       "      <td>Bangladesh Post</td>\n",
       "      <td>Bangladesh can raise up to $12.5b in addl fina...</td>\n",
       "    </tr>\n",
       "    <tr>\n",
       "      <th>1999</th>\n",
       "      <td>2000</td>\n",
       "      <td>Bankrupt Sri Lanka’s inflation dips to 66pc</td>\n",
       "      <td>Inflation in crisis-hit Sri Lanka dipped margi...</td>\n",
       "      <td>10/31/2022</td>\n",
       "      <td>Bangladesh Post</td>\n",
       "      <td>Bankrupt Sri Lanka’s inflation dips to 66pc In...</td>\n",
       "    </tr>\n",
       "    <tr>\n",
       "      <th>2000</th>\n",
       "      <td>2001</td>\n",
       "      <td>Death toll from Gujarat cable bridge collapse ...</td>\n",
       "      <td>The death toll from India's Gujarat cable brid...</td>\n",
       "      <td>10/31/2022</td>\n",
       "      <td>Bangladesh Post</td>\n",
       "      <td>Death toll from Gujarat cable bridge collapse ...</td>\n",
       "    </tr>\n",
       "  </tbody>\n",
       "</table>\n",
       "<p>2001 rows × 6 columns</p>\n",
       "</div>"
      ],
      "text/plain": [
       "      Serial                                            Headline  \\\n",
       "0           1                                                NaN   \n",
       "1           2                                                NaN   \n",
       "2           3                                                NaN   \n",
       "3           4                                                NaN   \n",
       "4           5                       LPG price drops Tk 8.68 a kg   \n",
       "...       ...                                                ...   \n",
       "1996     1997      Russia’s withdrawal may invite global hunger?   \n",
       "1997     1998  Arrest of public servants\\nBill withdrawn from...   \n",
       "1998     1999  Bangladesh can raise up to $12.5b in addl fina...   \n",
       "1999     2000        Bankrupt Sri Lanka’s inflation dips to 66pc   \n",
       "2000     2001  Death toll from Gujarat cable bridge collapse ...   \n",
       "\n",
       "                                                   News        Date  \\\n",
       "0                                                   NaN    5/1/2022   \n",
       "1                                                   NaN    5/2/2022   \n",
       "2                                                   NaN    5/3/2022   \n",
       "3                                                   NaN    5/4/2022   \n",
       "4     After 3 months of continuous upward trend in p...    5/5/2022   \n",
       "...                                                 ...         ...   \n",
       "1996  Russia’s decision to pull out of an agreement ...  10/31/2022   \n",
       "1997  The Public Service (Amendment) Bill, 2022 was ...  10/31/2022   \n",
       "1998  Bangladesh can raise up to $12.5 billion in ad...  10/31/2022   \n",
       "1999  Inflation in crisis-hit Sri Lanka dipped margi...  10/31/2022   \n",
       "2000  The death toll from India's Gujarat cable brid...  10/31/2022   \n",
       "\n",
       "            Publisher                                      combined_text  \n",
       "0     Bangladesh Post                                            nan nan  \n",
       "1     Bangladesh Post                                            nan nan  \n",
       "2     Bangladesh Post                                            nan nan  \n",
       "3     Bangladesh Post                                            nan nan  \n",
       "4     Bangladesh Post  LPG price drops Tk 8.68 a kg After 3 months of...  \n",
       "...               ...                                                ...  \n",
       "1996  Bangladesh Post  Russia’s withdrawal may invite global hunger? ...  \n",
       "1997  Bangladesh Post  Arrest of public servants\\nBill withdrawn from...  \n",
       "1998  Bangladesh Post  Bangladesh can raise up to $12.5b in addl fina...  \n",
       "1999  Bangladesh Post  Bankrupt Sri Lanka’s inflation dips to 66pc In...  \n",
       "2000  Bangladesh Post  Death toll from Gujarat cable bridge collapse ...  \n",
       "\n",
       "[2001 rows x 6 columns]"
      ]
     },
     "execution_count": 12,
     "metadata": {},
     "output_type": "execute_result"
    }
   ],
   "source": [
    "df"
   ]
  },
  {
   "cell_type": "code",
   "execution_count": 13,
   "id": "6dad6a4a",
   "metadata": {},
   "outputs": [],
   "source": [
    "df.to_csv('cleaned26.csv')"
   ]
  },
  {
   "cell_type": "code",
   "execution_count": 14,
   "id": "580c0160",
   "metadata": {},
   "outputs": [],
   "source": [
    "# Function to remove non-ascii characters from the text\n",
    "def _removeNonAscii(s): \n",
    "    return \"\".join(i for i in s if ord(i)<128)\n",
    "# function to remove the punctuations, apostrophe, special characters using regular expressions\n",
    "def clean_text(text):\n",
    "    text = text.lower()\n",
    "    text = re.sub(r\"what's\", \"what is \", text)\n",
    "    text = text.replace('(ap)', '')\n",
    "    text = re.sub(r\"\\'s\", \" is \", text)\n",
    "    text = re.sub(r\"\\'ve\", \" have \", text)\n",
    "    text = re.sub(r\"can't\", \"cannot \", text)\n",
    "    text = re.sub(r\"n't\", \" not \", text)\n",
    "    text = re.sub(r\"i'm\", \"i am \", text)\n",
    "    text = re.sub(r\"\\'re\", \" are \", text)\n",
    "    text = re.sub(r\"\\'d\", \" would \", text)\n",
    "    text = re.sub(r\"\\'ll\", \" will \", text)\n",
    "    text = re.sub(r'\\W+', ' ', text)\n",
    "    text = re.sub(r'\\s+', ' ', text)\n",
    "    text = re.sub(r\"\\\\\", \"\", text)\n",
    "    text = re.sub(r\"\\'\", \"\", text)    \n",
    "    text = re.sub(r\"\\\"\", \"\", text)\n",
    "    text = re.sub('[^a-zA-Z ?!]+', '', text)\n",
    "    text = _removeNonAscii(text)\n",
    "    text = text.strip()\n",
    "    return text\n",
    "# stop words are the words that convery little to no information about the actual content like the words:the, of, for etc\n",
    "def remove_stopwords(word_tokens):\n",
    "    filtered_sentence = [] \n",
    "    stop_words = stopwords.words('english')\n",
    "    specific_words_list = [] \n",
    "    stop_words.extend(specific_words_list )\n",
    "    for w in word_tokens: \n",
    "        if w not in stop_words: \n",
    "            filtered_sentence.append(w) \n",
    "    return filtered_sentence\n",
    "# function for lemmatization \n",
    "def lemmatize(x):\n",
    "    lemmatizer = WordNetLemmatizer()\n",
    "    return' '.join([lemmatizer.lemmatize(word) for word in x])"
   ]
  },
  {
   "cell_type": "code",
   "execution_count": 15,
   "id": "5254dc71",
   "metadata": {},
   "outputs": [],
   "source": [
    "# splitting a string, text into a list of tokens\n",
    "tokenizer = RegexpTokenizer(r'\\w+')\n",
    "def tokenize(x): \n",
    "    return tokenizer.tokenize(x)"
   ]
  },
  {
   "cell_type": "code",
   "execution_count": 16,
   "id": "75daf0b8",
   "metadata": {},
   "outputs": [
    {
     "name": "stderr",
     "output_type": "stream",
     "text": [
      "[nltk_data] Downloading package stopwords to\n",
      "[nltk_data]     C:\\Users\\Lenovo\\AppData\\Roaming\\nltk_data...\n",
      "[nltk_data]   Package stopwords is already up-to-date!\n"
     ]
    },
    {
     "data": {
      "text/plain": [
       "True"
      ]
     },
     "execution_count": 16,
     "metadata": {},
     "output_type": "execute_result"
    }
   ],
   "source": [
    "nltk.download('stopwords')"
   ]
  },
  {
   "cell_type": "code",
   "execution_count": 17,
   "id": "1c415ab6",
   "metadata": {},
   "outputs": [
    {
     "name": "stderr",
     "output_type": "stream",
     "text": [
      "[nltk_data] Downloading package wordnet to\n",
      "[nltk_data]     C:\\Users\\Lenovo\\AppData\\Roaming\\nltk_data...\n",
      "[nltk_data]   Package wordnet is already up-to-date!\n"
     ]
    },
    {
     "data": {
      "text/plain": [
       "True"
      ]
     },
     "execution_count": 17,
     "metadata": {},
     "output_type": "execute_result"
    }
   ],
   "source": [
    "nltk.download('wordnet')"
   ]
  },
  {
   "cell_type": "code",
   "execution_count": 18,
   "id": "ca54437e",
   "metadata": {},
   "outputs": [
    {
     "name": "stderr",
     "output_type": "stream",
     "text": [
      "[nltk_data] Downloading package omw-1.4 to\n",
      "[nltk_data]     C:\\Users\\Lenovo\\AppData\\Roaming\\nltk_data...\n",
      "[nltk_data]   Package omw-1.4 is already up-to-date!\n"
     ]
    },
    {
     "data": {
      "text/plain": [
       "True"
      ]
     },
     "execution_count": 18,
     "metadata": {},
     "output_type": "execute_result"
    }
   ],
   "source": [
    "nltk.download('omw-1.4')"
   ]
  },
  {
   "cell_type": "code",
   "execution_count": 19,
   "id": "eca42a95",
   "metadata": {},
   "outputs": [],
   "source": [
    "# applying all of these functions to the our dataframe \n",
    "df['combined_text'] = df['combined_text'].map(clean_text)\n",
    "df['tokens'] = df['combined_text'].map(tokenize)\n",
    "df['tokens'] = df['tokens'].map(remove_stopwords)\n",
    "df['lems'] =df['tokens'].map(lemmatize)"
   ]
  },
  {
   "cell_type": "code",
   "execution_count": 20,
   "id": "528ec517",
   "metadata": {},
   "outputs": [
    {
     "data": {
      "text/html": [
       "<div>\n",
       "<style scoped>\n",
       "    .dataframe tbody tr th:only-of-type {\n",
       "        vertical-align: middle;\n",
       "    }\n",
       "\n",
       "    .dataframe tbody tr th {\n",
       "        vertical-align: top;\n",
       "    }\n",
       "\n",
       "    .dataframe thead th {\n",
       "        text-align: right;\n",
       "    }\n",
       "</style>\n",
       "<table border=\"1\" class=\"dataframe\">\n",
       "  <thead>\n",
       "    <tr style=\"text-align: right;\">\n",
       "      <th></th>\n",
       "      <th>Serial</th>\n",
       "      <th>Headline</th>\n",
       "      <th>News</th>\n",
       "      <th>Date</th>\n",
       "      <th>Publisher</th>\n",
       "      <th>combined_text</th>\n",
       "      <th>tokens</th>\n",
       "      <th>lems</th>\n",
       "    </tr>\n",
       "  </thead>\n",
       "  <tbody>\n",
       "    <tr>\n",
       "      <th>0</th>\n",
       "      <td>1</td>\n",
       "      <td>NaN</td>\n",
       "      <td>NaN</td>\n",
       "      <td>5/1/2022</td>\n",
       "      <td>Bangladesh Post</td>\n",
       "      <td>nan nan</td>\n",
       "      <td>[nan, nan]</td>\n",
       "      <td>nan nan</td>\n",
       "    </tr>\n",
       "    <tr>\n",
       "      <th>1</th>\n",
       "      <td>2</td>\n",
       "      <td>NaN</td>\n",
       "      <td>NaN</td>\n",
       "      <td>5/2/2022</td>\n",
       "      <td>Bangladesh Post</td>\n",
       "      <td>nan nan</td>\n",
       "      <td>[nan, nan]</td>\n",
       "      <td>nan nan</td>\n",
       "    </tr>\n",
       "    <tr>\n",
       "      <th>2</th>\n",
       "      <td>3</td>\n",
       "      <td>NaN</td>\n",
       "      <td>NaN</td>\n",
       "      <td>5/3/2022</td>\n",
       "      <td>Bangladesh Post</td>\n",
       "      <td>nan nan</td>\n",
       "      <td>[nan, nan]</td>\n",
       "      <td>nan nan</td>\n",
       "    </tr>\n",
       "    <tr>\n",
       "      <th>3</th>\n",
       "      <td>4</td>\n",
       "      <td>NaN</td>\n",
       "      <td>NaN</td>\n",
       "      <td>5/4/2022</td>\n",
       "      <td>Bangladesh Post</td>\n",
       "      <td>nan nan</td>\n",
       "      <td>[nan, nan]</td>\n",
       "      <td>nan nan</td>\n",
       "    </tr>\n",
       "    <tr>\n",
       "      <th>4</th>\n",
       "      <td>5</td>\n",
       "      <td>LPG price drops Tk 8.68 a kg</td>\n",
       "      <td>After 3 months of continuous upward trend in p...</td>\n",
       "      <td>5/5/2022</td>\n",
       "      <td>Bangladesh Post</td>\n",
       "      <td>lpg price drops tk   a kg after  months of con...</td>\n",
       "      <td>[lpg, price, drops, tk, kg, months, continuous...</td>\n",
       "      <td>lpg price drop tk kg month continuous upward t...</td>\n",
       "    </tr>\n",
       "  </tbody>\n",
       "</table>\n",
       "</div>"
      ],
      "text/plain": [
       "   Serial                       Headline  \\\n",
       "0        1                           NaN   \n",
       "1        2                           NaN   \n",
       "2        3                           NaN   \n",
       "3        4                           NaN   \n",
       "4        5  LPG price drops Tk 8.68 a kg   \n",
       "\n",
       "                                                News      Date  \\\n",
       "0                                                NaN  5/1/2022   \n",
       "1                                                NaN  5/2/2022   \n",
       "2                                                NaN  5/3/2022   \n",
       "3                                                NaN  5/4/2022   \n",
       "4  After 3 months of continuous upward trend in p...  5/5/2022   \n",
       "\n",
       "         Publisher                                      combined_text  \\\n",
       "0  Bangladesh Post                                            nan nan   \n",
       "1  Bangladesh Post                                            nan nan   \n",
       "2  Bangladesh Post                                            nan nan   \n",
       "3  Bangladesh Post                                            nan nan   \n",
       "4  Bangladesh Post  lpg price drops tk   a kg after  months of con...   \n",
       "\n",
       "                                              tokens  \\\n",
       "0                                         [nan, nan]   \n",
       "1                                         [nan, nan]   \n",
       "2                                         [nan, nan]   \n",
       "3                                         [nan, nan]   \n",
       "4  [lpg, price, drops, tk, kg, months, continuous...   \n",
       "\n",
       "                                                lems  \n",
       "0                                            nan nan  \n",
       "1                                            nan nan  \n",
       "2                                            nan nan  \n",
       "3                                            nan nan  \n",
       "4  lpg price drop tk kg month continuous upward t...  "
      ]
     },
     "execution_count": 20,
     "metadata": {},
     "output_type": "execute_result"
    }
   ],
   "source": [
    "df.head()"
   ]
  },
  {
   "cell_type": "code",
   "execution_count": 21,
   "id": "5f1f46fe",
   "metadata": {},
   "outputs": [
    {
     "name": "stderr",
     "output_type": "stream",
     "text": [
      "[nltk_data] Downloading package vader_lexicon to\n",
      "[nltk_data]     C:\\Users\\Lenovo\\AppData\\Roaming\\nltk_data...\n",
      "[nltk_data]   Package vader_lexicon is already up-to-date!\n"
     ]
    },
    {
     "data": {
      "text/plain": [
       "True"
      ]
     },
     "execution_count": 21,
     "metadata": {},
     "output_type": "execute_result"
    }
   ],
   "source": [
    "nltk.download('vader_lexicon')"
   ]
  },
  {
   "cell_type": "code",
   "execution_count": 22,
   "id": "ea6b54c4",
   "metadata": {},
   "outputs": [],
   "source": [
    "# calculating the polarity of the news articles \n",
    "from nltk.sentiment.vader import SentimentIntensityAnalyzer as SIA\n",
    "sia = SIA()\n",
    "results = []\n",
    "for line in df['lems'] :\n",
    "    pol_score = sia.polarity_scores(line)\n",
    "    pol_score['Full_News'] = line\n",
    "    results.append(pol_score)"
   ]
  },
  {
   "cell_type": "code",
   "execution_count": 23,
   "id": "9c4bbfba",
   "metadata": {},
   "outputs": [],
   "source": [
    "# Creating a new dataframe of only the polarity score, the headline and the source of the news \n",
    "headlines_polarity = pd.DataFrame.from_records(results)\n",
    "temp = []\n",
    "for line in df['Publisher'] :\n",
    "    temp.append(line)\n",
    "headlines_polarity['Publisher'] =temp"
   ]
  },
  {
   "cell_type": "code",
   "execution_count": 24,
   "id": "07d2eb46",
   "metadata": {},
   "outputs": [],
   "source": [
    "# categorize news as positive or negative based on the compound score obtained\n",
    "headlines_polarity['label'] = 0\n",
    "# I have considered the news as positive if the compound score is greater than 0.2 hence the label 1\n",
    "headlines_polarity.loc[headlines_polarity['compound'] > 0.1, 'label'] = 1\n",
    "# if the compound score is below 0.2 then it is considered negative \n",
    "headlines_polarity.loc[headlines_polarity['compound'] < -0.1, 'label'] = -1\n",
    "# word count of news headlines is calculated\n",
    "headlines_polarity['word_count'] = headlines_polarity['Full_News'].apply(lambda x: len(str(x).split()))"
   ]
  },
  {
   "cell_type": "code",
   "execution_count": 25,
   "id": "66ea893a",
   "metadata": {},
   "outputs": [
    {
     "data": {
      "text/html": [
       "<div>\n",
       "<style scoped>\n",
       "    .dataframe tbody tr th:only-of-type {\n",
       "        vertical-align: middle;\n",
       "    }\n",
       "\n",
       "    .dataframe tbody tr th {\n",
       "        vertical-align: top;\n",
       "    }\n",
       "\n",
       "    .dataframe thead th {\n",
       "        text-align: right;\n",
       "    }\n",
       "</style>\n",
       "<table border=\"1\" class=\"dataframe\">\n",
       "  <thead>\n",
       "    <tr style=\"text-align: right;\">\n",
       "      <th></th>\n",
       "      <th>neg</th>\n",
       "      <th>neu</th>\n",
       "      <th>pos</th>\n",
       "      <th>compound</th>\n",
       "      <th>Full_News</th>\n",
       "      <th>Publisher</th>\n",
       "      <th>label</th>\n",
       "      <th>word_count</th>\n",
       "    </tr>\n",
       "  </thead>\n",
       "  <tbody>\n",
       "    <tr>\n",
       "      <th>0</th>\n",
       "      <td>0.000</td>\n",
       "      <td>1.000</td>\n",
       "      <td>0.000</td>\n",
       "      <td>0.0000</td>\n",
       "      <td>nan nan</td>\n",
       "      <td>Bangladesh Post</td>\n",
       "      <td>0</td>\n",
       "      <td>2</td>\n",
       "    </tr>\n",
       "    <tr>\n",
       "      <th>1</th>\n",
       "      <td>0.000</td>\n",
       "      <td>1.000</td>\n",
       "      <td>0.000</td>\n",
       "      <td>0.0000</td>\n",
       "      <td>nan nan</td>\n",
       "      <td>Bangladesh Post</td>\n",
       "      <td>0</td>\n",
       "      <td>2</td>\n",
       "    </tr>\n",
       "    <tr>\n",
       "      <th>2</th>\n",
       "      <td>0.000</td>\n",
       "      <td>1.000</td>\n",
       "      <td>0.000</td>\n",
       "      <td>0.0000</td>\n",
       "      <td>nan nan</td>\n",
       "      <td>Bangladesh Post</td>\n",
       "      <td>0</td>\n",
       "      <td>2</td>\n",
       "    </tr>\n",
       "    <tr>\n",
       "      <th>3</th>\n",
       "      <td>0.000</td>\n",
       "      <td>1.000</td>\n",
       "      <td>0.000</td>\n",
       "      <td>0.0000</td>\n",
       "      <td>nan nan</td>\n",
       "      <td>Bangladesh Post</td>\n",
       "      <td>0</td>\n",
       "      <td>2</td>\n",
       "    </tr>\n",
       "    <tr>\n",
       "      <th>4</th>\n",
       "      <td>0.074</td>\n",
       "      <td>0.851</td>\n",
       "      <td>0.075</td>\n",
       "      <td>0.2732</td>\n",
       "      <td>lpg price drop tk kg month continuous upward t...</td>\n",
       "      <td>Bangladesh Post</td>\n",
       "      <td>1</td>\n",
       "      <td>188</td>\n",
       "    </tr>\n",
       "  </tbody>\n",
       "</table>\n",
       "</div>"
      ],
      "text/plain": [
       "     neg    neu    pos  compound  \\\n",
       "0  0.000  1.000  0.000    0.0000   \n",
       "1  0.000  1.000  0.000    0.0000   \n",
       "2  0.000  1.000  0.000    0.0000   \n",
       "3  0.000  1.000  0.000    0.0000   \n",
       "4  0.074  0.851  0.075    0.2732   \n",
       "\n",
       "                                           Full_News        Publisher  label  \\\n",
       "0                                            nan nan  Bangladesh Post      0   \n",
       "1                                            nan nan  Bangladesh Post      0   \n",
       "2                                            nan nan  Bangladesh Post      0   \n",
       "3                                            nan nan  Bangladesh Post      0   \n",
       "4  lpg price drop tk kg month continuous upward t...  Bangladesh Post      1   \n",
       "\n",
       "   word_count  \n",
       "0           2  \n",
       "1           2  \n",
       "2           2  \n",
       "3           2  \n",
       "4         188  "
      ]
     },
     "execution_count": 25,
     "metadata": {},
     "output_type": "execute_result"
    }
   ],
   "source": [
    "headlines_polarity.head()"
   ]
  },
  {
   "cell_type": "code",
   "execution_count": 26,
   "id": "e5f3b6b7",
   "metadata": {},
   "outputs": [
    {
     "data": {
      "image/png": "[encoded data removed]",
      "text/plain": [
       "<Figure size 432x432 with 1 Axes>"
      ]
     },
     "metadata": {
      "needs_background": "light"
     },
     "output_type": "display_data"
    }
   ],
   "source": [
    "import matplotlib.pyplot as plt\n",
    "import seaborn as sns\n",
    "fig, ax = plt.subplots(figsize=(6, 6))\n",
    "counts = headlines_polarity.label.value_counts(normalize=True) * 100\n",
    "sns.barplot(x=counts.index, y=counts, ax=ax)\n",
    "ax.set_xticklabels(['Negative', 'Neutral', 'Positive'])\n",
    "ax.set_ylabel(\"Percentage\")\n",
    "plt.show()"
   ]
  },
  {
   "cell_type": "code",
   "execution_count": 27,
   "id": "f9174040",
   "metadata": {},
   "outputs": [
    {
     "data": {
      "text/plain": [
       "<AxesSubplot:xlabel='label', ylabel='count'>"
      ]
     },
     "execution_count": 27,
     "metadata": {},
     "output_type": "execute_result"
    },
    {
     "data": {
      "image/png": "[encoded data removed]",
      "text/plain": [
       "<Figure size 432x288 with 1 Axes>"
      ]
     },
     "metadata": {
      "needs_background": "light"
     },
     "output_type": "display_data"
    }
   ],
   "source": [
    "sns.countplot(x='label', data=headlines_polarity)"
   ]
  },
  {
   "cell_type": "code",
   "execution_count": 28,
   "id": "b7ab6b9b",
   "metadata": {},
   "outputs": [
    {
     "data": {
      "text/plain": [
       "label\n",
       "-1    39.080460\n",
       " 0     2.398801\n",
       " 1    58.520740\n",
       "dtype: float64"
      ]
     },
     "execution_count": 28,
     "metadata": {},
     "output_type": "execute_result"
    }
   ],
   "source": [
    "headlines_polarity.groupby(\"label\").size()/len(headlines_polarity) * 100"
   ]
  },
  {
   "cell_type": "code",
   "execution_count": 29,
   "id": "a8aad6dd",
   "metadata": {},
   "outputs": [
    {
     "data": {
      "text/plain": [
       " 1    1171\n",
       "-1     782\n",
       " 0      48\n",
       "Name: label, dtype: int64"
      ]
     },
     "execution_count": 29,
     "metadata": {},
     "output_type": "execute_result"
    }
   ],
   "source": [
    "headlines_polarity['label'].value_counts()"
   ]
  },
  {
   "cell_type": "code",
   "execution_count": 30,
   "id": "c34ae444",
   "metadata": {},
   "outputs": [
    {
     "data": {
      "text/plain": [
       "<AxesSubplot:xlabel='Publisher', ylabel='count'>"
      ]
     },
     "execution_count": 30,
     "metadata": {},
     "output_type": "execute_result"
    },
    {
     "data": {
      "image/png": "[encoded data removed]",
      "text/plain": [
       "<Figure size 720x432 with 1 Axes>"
      ]
     },
     "metadata": {},
     "output_type": "display_data"
    }
   ],
   "source": [
    "sns.set(style='white')\n",
    "plt.figure(figsize=(10,6))\n",
    "#create grouped bar chart\n",
    "sns.countplot(x='Publisher', hue='label', data=headlines_polarity)"
   ]
  },
  {
   "cell_type": "code",
   "execution_count": 31,
   "id": "d54a20ba",
   "metadata": {},
   "outputs": [
    {
     "data": {
      "text/html": [
       "<div>\n",
       "<style scoped>\n",
       "    .dataframe tbody tr th:only-of-type {\n",
       "        vertical-align: middle;\n",
       "    }\n",
       "\n",
       "    .dataframe tbody tr th {\n",
       "        vertical-align: top;\n",
       "    }\n",
       "\n",
       "    .dataframe thead th {\n",
       "        text-align: right;\n",
       "    }\n",
       "</style>\n",
       "<table border=\"1\" class=\"dataframe\">\n",
       "  <thead>\n",
       "    <tr style=\"text-align: right;\">\n",
       "      <th></th>\n",
       "      <th>neg</th>\n",
       "      <th>neu</th>\n",
       "      <th>pos</th>\n",
       "      <th>compound</th>\n",
       "      <th>Full_News</th>\n",
       "      <th>Publisher</th>\n",
       "      <th>label</th>\n",
       "      <th>word_count</th>\n",
       "    </tr>\n",
       "  </thead>\n",
       "  <tbody>\n",
       "    <tr>\n",
       "      <th>0</th>\n",
       "      <td>0.000</td>\n",
       "      <td>1.000</td>\n",
       "      <td>0.000</td>\n",
       "      <td>0.0000</td>\n",
       "      <td>nan nan</td>\n",
       "      <td>Bangladesh Post</td>\n",
       "      <td>0</td>\n",
       "      <td>2</td>\n",
       "    </tr>\n",
       "    <tr>\n",
       "      <th>1</th>\n",
       "      <td>0.000</td>\n",
       "      <td>1.000</td>\n",
       "      <td>0.000</td>\n",
       "      <td>0.0000</td>\n",
       "      <td>nan nan</td>\n",
       "      <td>Bangladesh Post</td>\n",
       "      <td>0</td>\n",
       "      <td>2</td>\n",
       "    </tr>\n",
       "    <tr>\n",
       "      <th>2</th>\n",
       "      <td>0.000</td>\n",
       "      <td>1.000</td>\n",
       "      <td>0.000</td>\n",
       "      <td>0.0000</td>\n",
       "      <td>nan nan</td>\n",
       "      <td>Bangladesh Post</td>\n",
       "      <td>0</td>\n",
       "      <td>2</td>\n",
       "    </tr>\n",
       "    <tr>\n",
       "      <th>3</th>\n",
       "      <td>0.000</td>\n",
       "      <td>1.000</td>\n",
       "      <td>0.000</td>\n",
       "      <td>0.0000</td>\n",
       "      <td>nan nan</td>\n",
       "      <td>Bangladesh Post</td>\n",
       "      <td>0</td>\n",
       "      <td>2</td>\n",
       "    </tr>\n",
       "    <tr>\n",
       "      <th>4</th>\n",
       "      <td>0.074</td>\n",
       "      <td>0.851</td>\n",
       "      <td>0.075</td>\n",
       "      <td>0.2732</td>\n",
       "      <td>lpg price drop tk kg month continuous upward t...</td>\n",
       "      <td>Bangladesh Post</td>\n",
       "      <td>1</td>\n",
       "      <td>188</td>\n",
       "    </tr>\n",
       "    <tr>\n",
       "      <th>...</th>\n",
       "      <td>...</td>\n",
       "      <td>...</td>\n",
       "      <td>...</td>\n",
       "      <td>...</td>\n",
       "      <td>...</td>\n",
       "      <td>...</td>\n",
       "      <td>...</td>\n",
       "      <td>...</td>\n",
       "    </tr>\n",
       "    <tr>\n",
       "      <th>1996</th>\n",
       "      <td>0.152</td>\n",
       "      <td>0.731</td>\n",
       "      <td>0.117</td>\n",
       "      <td>-0.9904</td>\n",
       "      <td>russia withdrawal may invite global hunger rus...</td>\n",
       "      <td>Bangladesh Post</td>\n",
       "      <td>-1</td>\n",
       "      <td>740</td>\n",
       "    </tr>\n",
       "    <tr>\n",
       "      <th>1997</th>\n",
       "      <td>0.177</td>\n",
       "      <td>0.749</td>\n",
       "      <td>0.074</td>\n",
       "      <td>-0.9743</td>\n",
       "      <td>arrest public servant bill withdrawn j light h...</td>\n",
       "      <td>Bangladesh Post</td>\n",
       "      <td>-1</td>\n",
       "      <td>208</td>\n",
       "    </tr>\n",
       "    <tr>\n",
       "      <th>1998</th>\n",
       "      <td>0.103</td>\n",
       "      <td>0.664</td>\n",
       "      <td>0.233</td>\n",
       "      <td>0.9975</td>\n",
       "      <td>bangladesh raise b addl financing climate acti...</td>\n",
       "      <td>Bangladesh Post</td>\n",
       "      <td>1</td>\n",
       "      <td>520</td>\n",
       "    </tr>\n",
       "    <tr>\n",
       "      <th>1999</th>\n",
       "      <td>0.213</td>\n",
       "      <td>0.729</td>\n",
       "      <td>0.057</td>\n",
       "      <td>-0.9855</td>\n",
       "      <td>bankrupt sri lanka inflation dip pc inflation ...</td>\n",
       "      <td>Bangladesh Post</td>\n",
       "      <td>-1</td>\n",
       "      <td>202</td>\n",
       "    </tr>\n",
       "    <tr>\n",
       "      <th>2000</th>\n",
       "      <td>0.270</td>\n",
       "      <td>0.693</td>\n",
       "      <td>0.037</td>\n",
       "      <td>-0.9913</td>\n",
       "      <td>death toll gujarat cable bridge collapse reach...</td>\n",
       "      <td>Bangladesh Post</td>\n",
       "      <td>-1</td>\n",
       "      <td>148</td>\n",
       "    </tr>\n",
       "  </tbody>\n",
       "</table>\n",
       "<p>2001 rows × 8 columns</p>\n",
       "</div>"
      ],
      "text/plain": [
       "        neg    neu    pos  compound  \\\n",
       "0     0.000  1.000  0.000    0.0000   \n",
       "1     0.000  1.000  0.000    0.0000   \n",
       "2     0.000  1.000  0.000    0.0000   \n",
       "3     0.000  1.000  0.000    0.0000   \n",
       "4     0.074  0.851  0.075    0.2732   \n",
       "...     ...    ...    ...       ...   \n",
       "1996  0.152  0.731  0.117   -0.9904   \n",
       "1997  0.177  0.749  0.074   -0.9743   \n",
       "1998  0.103  0.664  0.233    0.9975   \n",
       "1999  0.213  0.729  0.057   -0.9855   \n",
       "2000  0.270  0.693  0.037   -0.9913   \n",
       "\n",
       "                                              Full_News        Publisher  \\\n",
       "0                                               nan nan  Bangladesh Post   \n",
       "1                                               nan nan  Bangladesh Post   \n",
       "2                                               nan nan  Bangladesh Post   \n",
       "3                                               nan nan  Bangladesh Post   \n",
       "4     lpg price drop tk kg month continuous upward t...  Bangladesh Post   \n",
       "...                                                 ...              ...   \n",
       "1996  russia withdrawal may invite global hunger rus...  Bangladesh Post   \n",
       "1997  arrest public servant bill withdrawn j light h...  Bangladesh Post   \n",
       "1998  bangladesh raise b addl financing climate acti...  Bangladesh Post   \n",
       "1999  bankrupt sri lanka inflation dip pc inflation ...  Bangladesh Post   \n",
       "2000  death toll gujarat cable bridge collapse reach...  Bangladesh Post   \n",
       "\n",
       "      label  word_count  \n",
       "0         0           2  \n",
       "1         0           2  \n",
       "2         0           2  \n",
       "3         0           2  \n",
       "4         1         188  \n",
       "...     ...         ...  \n",
       "1996     -1         740  \n",
       "1997     -1         208  \n",
       "1998      1         520  \n",
       "1999     -1         202  \n",
       "2000     -1         148  \n",
       "\n",
       "[2001 rows x 8 columns]"
      ]
     },
     "execution_count": 31,
     "metadata": {},
     "output_type": "execute_result"
    }
   ],
   "source": [
    "headlines_polarity"
   ]
  },
  {
   "cell_type": "code",
   "execution_count": 32,
   "id": "f4678424",
   "metadata": {},
   "outputs": [
    {
     "data": {
      "text/plain": [
       "neg           0\n",
       "neu           0\n",
       "pos           0\n",
       "compound      0\n",
       "Full_News     0\n",
       "Publisher     0\n",
       "label         0\n",
       "word_count    0\n",
       "dtype: int64"
      ]
     },
     "execution_count": 32,
     "metadata": {},
     "output_type": "execute_result"
    }
   ],
   "source": [
    "headlines_polarity.isnull().sum() "
   ]
  },
  {
   "cell_type": "code",
   "execution_count": 33,
   "id": "18dcc671",
   "metadata": {},
   "outputs": [
    {
     "data": {
      "image/png": "[encoded data removed]",
      "text/plain": [
       "<Figure size 432x288 with 1 Axes>"
      ]
     },
     "metadata": {},
     "output_type": "display_data"
    }
   ],
   "source": [
    "import matplotlib.pyplot as plt\n",
    "\n",
    "# Data to plot\n",
    "labels = 'Positive', 'Neutral', 'Negative'\n",
    "sizes = [54.305365, 3.259972, 42.434663]\n",
    "colors = ['gold', 'yellowgreen', 'lightcoral']\n",
    "explode = (0.1, 0.1, 0.1)  # explode 1st slice\n",
    "\n",
    "# Plot\n",
    "plt.pie(sizes, explode=explode, labels=labels, colors=colors,\n",
    "autopct='%1.1f%%', shadow=True, startangle=140)\n",
    "\n",
    "plt.axis('equal')\n",
    "plt.show()"
   ]
  },
  {
   "cell_type": "code",
   "execution_count": 34,
   "id": "05c111a2",
   "metadata": {},
   "outputs": [],
   "source": [
    "headlines_polarity.to_csv('cleaned31.csv')"
   ]
  },
  {
   "cell_type": "code",
   "execution_count": 35,
   "id": "54eefc04",
   "metadata": {},
   "outputs": [
    {
     "data": {
      "text/plain": [
       "neg            307\n",
       "neu            394\n",
       "pos            306\n",
       "compound       850\n",
       "Full_News     1989\n",
       "Publisher        1\n",
       "label            3\n",
       "word_count     558\n",
       "dtype: int64"
      ]
     },
     "execution_count": 35,
     "metadata": {},
     "output_type": "execute_result"
    }
   ],
   "source": [
    "headlines_polarity.nunique()"
   ]
  },
  {
   "cell_type": "code",
   "execution_count": 36,
   "id": "cbce1f27",
   "metadata": {},
   "outputs": [
    {
     "name": "stdout",
     "output_type": "stream",
     "text": [
      "Requirement already satisfied: wordcloud in c:\\users\\lenovo\\anaconda3\\lib\\site-packages (1.9.2)\n",
      "Requirement already satisfied: matplotlib in c:\\users\\lenovo\\anaconda3\\lib\\site-packages (from wordcloud) (3.5.1)\n",
      "Requirement already satisfied: pillow in c:\\users\\lenovo\\anaconda3\\lib\\site-packages (from wordcloud) (9.0.1)\n",
      "Requirement already satisfied: numpy>=1.6.1 in c:\\users\\lenovo\\anaconda3\\lib\\site-packages (from wordcloud) (1.21.5)\n",
      "Requirement already satisfied: kiwisolver>=1.0.1 in c:\\users\\lenovo\\anaconda3\\lib\\site-packages (from matplotlib->wordcloud) (1.3.2)\n",
      "Requirement already satisfied: fonttools>=4.22.0 in c:\\users\\lenovo\\anaconda3\\lib\\site-packages (from matplotlib->wordcloud) (4.25.0)\n",
      "Requirement already satisfied: pyparsing>=2.2.1 in c:\\users\\lenovo\\anaconda3\\lib\\site-packages (from matplotlib->wordcloud) (3.0.4)\n",
      "Requirement already satisfied: cycler>=0.10 in c:\\users\\lenovo\\anaconda3\\lib\\site-packages (from matplotlib->wordcloud) (0.11.0)\n",
      "Requirement already satisfied: python-dateutil>=2.7 in c:\\users\\lenovo\\anaconda3\\lib\\site-packages (from matplotlib->wordcloud) (2.8.2)\n",
      "Requirement already satisfied: packaging>=20.0 in c:\\users\\lenovo\\anaconda3\\lib\\site-packages (from matplotlib->wordcloud) (21.3)\n",
      "Requirement already satisfied: six>=1.5 in c:\\users\\lenovo\\anaconda3\\lib\\site-packages (from python-dateutil>=2.7->matplotlib->wordcloud) (1.16.0)\n"
     ]
    }
   ],
   "source": [
    "!pip install wordcloud"
   ]
  },
  {
   "cell_type": "code",
   "execution_count": 37,
   "id": "6995b1df",
   "metadata": {},
   "outputs": [],
   "source": [
    "from wordcloud import WordCloud"
   ]
  },
  {
   "cell_type": "code",
   "execution_count": 38,
   "id": "02f79003",
   "metadata": {},
   "outputs": [
    {
     "ename": "ValueError",
     "evalue": "Only supported for TrueType fonts",
     "output_type": "error",
     "traceback": [
      "\u001b[1;31m---------------------------------------------------------------------------\u001b[0m",
      "\u001b[1;31mValueError\u001b[0m                                Traceback (most recent call last)",
      "Input \u001b[1;32mIn [38]\u001b[0m, in \u001b[0;36m<cell line: 2>\u001b[1;34m()\u001b[0m\n\u001b[0;32m      1\u001b[0m stop \u001b[38;5;241m=\u001b[39m [\u001b[38;5;124m\"\u001b[39m\u001b[38;5;124mhttps\u001b[39m\u001b[38;5;124m\"\u001b[39m, \u001b[38;5;124m\"\u001b[39m\u001b[38;5;124mco\u001b[39m\u001b[38;5;124m\"\u001b[39m, \u001b[38;5;124m\"\u001b[39m\u001b[38;5;124mchar\u001b[39m\u001b[38;5;124m\"\u001b[39m,\u001b[38;5;124m\"\u001b[39m\u001b[38;5;124mchars\u001b[39m\u001b[38;5;124m\"\u001b[39m] \u001b[38;5;241m+\u001b[39m \u001b[38;5;28mlist\u001b[39m(stopwords\u001b[38;5;241m.\u001b[39mwords(\u001b[38;5;124m'\u001b[39m\u001b[38;5;124menglish\u001b[39m\u001b[38;5;124m'\u001b[39m))\n\u001b[1;32m----> 2\u001b[0m wc \u001b[38;5;241m=\u001b[39m \u001b[43mWordCloud\u001b[49m\u001b[43m(\u001b[49m\u001b[43mstopwords\u001b[49m\u001b[38;5;241;43m=\u001b[39;49m\u001b[43mstop\u001b[49m\u001b[43m,\u001b[49m\u001b[43m \u001b[49m\u001b[43mmax_words\u001b[49m\u001b[38;5;241;43m=\u001b[39;49m\u001b[38;5;241;43m700\u001b[39;49m\u001b[43m,\u001b[49m\u001b[43m \u001b[49m\u001b[43mmargin\u001b[49m\u001b[38;5;241;43m=\u001b[39;49m\u001b[38;5;241;43m10\u001b[39;49m\u001b[43m,\u001b[49m\u001b[43m \u001b[49m\u001b[43mbackground_color\u001b[49m\u001b[38;5;241;43m=\u001b[39;49m\u001b[38;5;124;43m'\u001b[39;49m\u001b[38;5;124;43mblack\u001b[39;49m\u001b[38;5;124;43m'\u001b[39;49m\u001b[43m,\u001b[49m\n\u001b[0;32m      3\u001b[0m \u001b[43mscale\u001b[49m\u001b[38;5;241;43m=\u001b[39;49m\u001b[38;5;241;43m3\u001b[39;49m\u001b[43m,\u001b[49m\u001b[43m \u001b[49m\u001b[43mrelative_scaling\u001b[49m\u001b[43m \u001b[49m\u001b[38;5;241;43m=\u001b[39;49m\u001b[43m \u001b[49m\u001b[38;5;241;43m0.4\u001b[39;49m\u001b[43m,\u001b[49m\u001b[43m \u001b[49m\u001b[43mwidth\u001b[49m\u001b[38;5;241;43m=\u001b[39;49m\u001b[38;5;241;43m500\u001b[39;49m\u001b[43m,\u001b[49m\u001b[43m \u001b[49m\u001b[43mheight\u001b[49m\u001b[38;5;241;43m=\u001b[39;49m\u001b[38;5;241;43m400\u001b[39;49m\u001b[43m,\u001b[49m\n\u001b[0;32m      4\u001b[0m \u001b[43mrandom_state\u001b[49m\u001b[38;5;241;43m=\u001b[39;49m\u001b[38;5;241;43m1\u001b[39;49m\u001b[43m)\u001b[49m\u001b[38;5;241;43m.\u001b[39;49m\u001b[43mgenerate\u001b[49m\u001b[43m(\u001b[49m\u001b[38;5;124;43m'\u001b[39;49m\u001b[38;5;124;43m \u001b[39;49m\u001b[38;5;124;43m'\u001b[39;49m\u001b[38;5;241;43m.\u001b[39;49m\u001b[43mjoin\u001b[49m\u001b[43m(\u001b[49m\u001b[43mdf\u001b[49m\u001b[43m[\u001b[49m\u001b[38;5;124;43m'\u001b[39;49m\u001b[38;5;124;43mcombined_text\u001b[39;49m\u001b[38;5;124;43m'\u001b[39;49m\u001b[43m]\u001b[49m\u001b[43m)\u001b[49m\u001b[43m)\u001b[49m\n\u001b[0;32m      5\u001b[0m plt\u001b[38;5;241m.\u001b[39mfigure(figsize\u001b[38;5;241m=\u001b[39m(\u001b[38;5;241m15\u001b[39m,\u001b[38;5;241m15\u001b[39m))\n\u001b[0;32m      6\u001b[0m plt\u001b[38;5;241m.\u001b[39mimshow(wc, interpolation\u001b[38;5;241m=\u001b[39m\u001b[38;5;124m\"\u001b[39m\u001b[38;5;124mbilinear\u001b[39m\u001b[38;5;124m\"\u001b[39m)\n",
      "File \u001b[1;32m~\\anaconda3\\lib\\site-packages\\wordcloud\\wordcloud.py:639\u001b[0m, in \u001b[0;36mWordCloud.generate\u001b[1;34m(self, text)\u001b[0m\n\u001b[0;32m    624\u001b[0m \u001b[38;5;28;01mdef\u001b[39;00m \u001b[38;5;21mgenerate\u001b[39m(\u001b[38;5;28mself\u001b[39m, text):\n\u001b[0;32m    625\u001b[0m     \u001b[38;5;124;03m\"\"\"Generate wordcloud from text.\u001b[39;00m\n\u001b[0;32m    626\u001b[0m \n\u001b[0;32m    627\u001b[0m \u001b[38;5;124;03m    The input \"text\" is expected to be a natural text. If you pass a sorted\u001b[39;00m\n\u001b[1;32m   (...)\u001b[0m\n\u001b[0;32m    637\u001b[0m \u001b[38;5;124;03m    self\u001b[39;00m\n\u001b[0;32m    638\u001b[0m \u001b[38;5;124;03m    \"\"\"\u001b[39;00m\n\u001b[1;32m--> 639\u001b[0m     \u001b[38;5;28;01mreturn\u001b[39;00m \u001b[38;5;28;43mself\u001b[39;49m\u001b[38;5;241;43m.\u001b[39;49m\u001b[43mgenerate_from_text\u001b[49m\u001b[43m(\u001b[49m\u001b[43mtext\u001b[49m\u001b[43m)\u001b[49m\n",
      "File \u001b[1;32m~\\anaconda3\\lib\\site-packages\\wordcloud\\wordcloud.py:621\u001b[0m, in \u001b[0;36mWordCloud.generate_from_text\u001b[1;34m(self, text)\u001b[0m\n\u001b[0;32m    604\u001b[0m \u001b[38;5;124;03m\"\"\"Generate wordcloud from text.\u001b[39;00m\n\u001b[0;32m    605\u001b[0m \n\u001b[0;32m    606\u001b[0m \u001b[38;5;124;03mThe input \"text\" is expected to be a natural text. If you pass a sorted\u001b[39;00m\n\u001b[1;32m   (...)\u001b[0m\n\u001b[0;32m    618\u001b[0m \u001b[38;5;124;03mself\u001b[39;00m\n\u001b[0;32m    619\u001b[0m \u001b[38;5;124;03m\"\"\"\u001b[39;00m\n\u001b[0;32m    620\u001b[0m words \u001b[38;5;241m=\u001b[39m \u001b[38;5;28mself\u001b[39m\u001b[38;5;241m.\u001b[39mprocess_text(text)\n\u001b[1;32m--> 621\u001b[0m \u001b[38;5;28;43mself\u001b[39;49m\u001b[38;5;241;43m.\u001b[39;49m\u001b[43mgenerate_from_frequencies\u001b[49m\u001b[43m(\u001b[49m\u001b[43mwords\u001b[49m\u001b[43m)\u001b[49m\n\u001b[0;32m    622\u001b[0m \u001b[38;5;28;01mreturn\u001b[39;00m \u001b[38;5;28mself\u001b[39m\n",
      "File \u001b[1;32m~\\anaconda3\\lib\\site-packages\\wordcloud\\wordcloud.py:453\u001b[0m, in \u001b[0;36mWordCloud.generate_from_frequencies\u001b[1;34m(self, frequencies, max_font_size)\u001b[0m\n\u001b[0;32m    451\u001b[0m     font_size \u001b[38;5;241m=\u001b[39m \u001b[38;5;28mself\u001b[39m\u001b[38;5;241m.\u001b[39mheight\n\u001b[0;32m    452\u001b[0m \u001b[38;5;28;01melse\u001b[39;00m:\n\u001b[1;32m--> 453\u001b[0m     \u001b[38;5;28;43mself\u001b[39;49m\u001b[38;5;241;43m.\u001b[39;49m\u001b[43mgenerate_from_frequencies\u001b[49m\u001b[43m(\u001b[49m\u001b[38;5;28;43mdict\u001b[39;49m\u001b[43m(\u001b[49m\u001b[43mfrequencies\u001b[49m\u001b[43m[\u001b[49m\u001b[43m:\u001b[49m\u001b[38;5;241;43m2\u001b[39;49m\u001b[43m]\u001b[49m\u001b[43m)\u001b[49m\u001b[43m,\u001b[49m\n\u001b[0;32m    454\u001b[0m \u001b[43m                                   \u001b[49m\u001b[43mmax_font_size\u001b[49m\u001b[38;5;241;43m=\u001b[39;49m\u001b[38;5;28;43mself\u001b[39;49m\u001b[38;5;241;43m.\u001b[39;49m\u001b[43mheight\u001b[49m\u001b[43m)\u001b[49m\n\u001b[0;32m    455\u001b[0m     \u001b[38;5;66;03m# find font sizes\u001b[39;00m\n\u001b[0;32m    456\u001b[0m     sizes \u001b[38;5;241m=\u001b[39m [x[\u001b[38;5;241m1\u001b[39m] \u001b[38;5;28;01mfor\u001b[39;00m x \u001b[38;5;129;01min\u001b[39;00m \u001b[38;5;28mself\u001b[39m\u001b[38;5;241m.\u001b[39mlayout_]\n",
      "File \u001b[1;32m~\\anaconda3\\lib\\site-packages\\wordcloud\\wordcloud.py:508\u001b[0m, in \u001b[0;36mWordCloud.generate_from_frequencies\u001b[1;34m(self, frequencies, max_font_size)\u001b[0m\n\u001b[0;32m    505\u001b[0m transposed_font \u001b[38;5;241m=\u001b[39m ImageFont\u001b[38;5;241m.\u001b[39mTransposedFont(\n\u001b[0;32m    506\u001b[0m     font, orientation\u001b[38;5;241m=\u001b[39morientation)\n\u001b[0;32m    507\u001b[0m \u001b[38;5;66;03m# get size of resulting text\u001b[39;00m\n\u001b[1;32m--> 508\u001b[0m box_size \u001b[38;5;241m=\u001b[39m \u001b[43mdraw\u001b[49m\u001b[38;5;241;43m.\u001b[39;49m\u001b[43mtextbbox\u001b[49m\u001b[43m(\u001b[49m\u001b[43m(\u001b[49m\u001b[38;5;241;43m0\u001b[39;49m\u001b[43m,\u001b[49m\u001b[43m \u001b[49m\u001b[38;5;241;43m0\u001b[39;49m\u001b[43m)\u001b[49m\u001b[43m,\u001b[49m\u001b[43m \u001b[49m\u001b[43mword\u001b[49m\u001b[43m,\u001b[49m\u001b[43m \u001b[49m\u001b[43mfont\u001b[49m\u001b[38;5;241;43m=\u001b[39;49m\u001b[43mtransposed_font\u001b[49m\u001b[43m,\u001b[49m\u001b[43m \u001b[49m\u001b[43manchor\u001b[49m\u001b[38;5;241;43m=\u001b[39;49m\u001b[38;5;124;43m\"\u001b[39;49m\u001b[38;5;124;43mlt\u001b[39;49m\u001b[38;5;124;43m\"\u001b[39;49m\u001b[43m)\u001b[49m\n\u001b[0;32m    509\u001b[0m \u001b[38;5;66;03m# find possible places using integral image:\u001b[39;00m\n\u001b[0;32m    510\u001b[0m result \u001b[38;5;241m=\u001b[39m occupancy\u001b[38;5;241m.\u001b[39msample_position(box_size[\u001b[38;5;241m3\u001b[39m] \u001b[38;5;241m+\u001b[39m \u001b[38;5;28mself\u001b[39m\u001b[38;5;241m.\u001b[39mmargin,\n\u001b[0;32m    511\u001b[0m                                    box_size[\u001b[38;5;241m2\u001b[39m] \u001b[38;5;241m+\u001b[39m \u001b[38;5;28mself\u001b[39m\u001b[38;5;241m.\u001b[39mmargin,\n\u001b[0;32m    512\u001b[0m                                    random_state)\n",
      "File \u001b[1;32m~\\anaconda3\\lib\\site-packages\\PIL\\ImageDraw.py:671\u001b[0m, in \u001b[0;36mImageDraw.textbbox\u001b[1;34m(self, xy, text, font, anchor, spacing, align, direction, features, language, stroke_width, embedded_color)\u001b[0m\n\u001b[0;32m    669\u001b[0m     font \u001b[38;5;241m=\u001b[39m \u001b[38;5;28mself\u001b[39m\u001b[38;5;241m.\u001b[39mgetfont()\n\u001b[0;32m    670\u001b[0m \u001b[38;5;28;01mif\u001b[39;00m \u001b[38;5;129;01mnot\u001b[39;00m \u001b[38;5;28misinstance\u001b[39m(font, ImageFont\u001b[38;5;241m.\u001b[39mFreeTypeFont):\n\u001b[1;32m--> 671\u001b[0m     \u001b[38;5;28;01mraise\u001b[39;00m \u001b[38;5;167;01mValueError\u001b[39;00m(\u001b[38;5;124m\"\u001b[39m\u001b[38;5;124mOnly supported for TrueType fonts\u001b[39m\u001b[38;5;124m\"\u001b[39m)\n\u001b[0;32m    672\u001b[0m mode \u001b[38;5;241m=\u001b[39m \u001b[38;5;124m\"\u001b[39m\u001b[38;5;124mRGBA\u001b[39m\u001b[38;5;124m\"\u001b[39m \u001b[38;5;28;01mif\u001b[39;00m embedded_color \u001b[38;5;28;01melse\u001b[39;00m \u001b[38;5;28mself\u001b[39m\u001b[38;5;241m.\u001b[39mfontmode\n\u001b[0;32m    673\u001b[0m bbox \u001b[38;5;241m=\u001b[39m font\u001b[38;5;241m.\u001b[39mgetbbox(\n\u001b[0;32m    674\u001b[0m     text, mode, direction, features, language, stroke_width, anchor\n\u001b[0;32m    675\u001b[0m )\n",
      "\u001b[1;31mValueError\u001b[0m: Only supported for TrueType fonts"
     ]
    }
   ],
   "source": [
    "stop = [\"https\", \"co\", \"char\",\"chars\"] + list(stopwords.words('english'))\n",
    "wc = WordCloud(stopwords=stop, max_words=700, margin=10, background_color='black',\n",
    "scale=3, relative_scaling = 0.4, width=500, height=400,\n",
    "random_state=1).generate(' '.join(df['combined_text']))\n",
    "plt.figure(figsize=(15,15))\n",
    "plt.imshow(wc, interpolation=\"bilinear\")\n",
    "plt.axis(\"off\")\n",
    "plt.show()"
   ]
  },
  {
   "cell_type": "code",
   "execution_count": null,
   "id": "76dc518d",
   "metadata": {},
   "outputs": [],
   "source": [
    "# visualize the frequent words\n",
    "all_words = \" \".join([sentence for sentence in df['combined_text']])\n",
    "\n",
    "from wordcloud import WordCloud\n",
    "wordcloud = WordCloud(width=800, height=500, random_state=42, max_font_size=100).generate(all_words)\n",
    "\n",
    "# plot the graph\n",
    "plt.figure(figsize=(15,8))\n",
    "plt.imshow(wordcloud, interpolation='bilinear')\n",
    "plt.axis('off')\n",
    "plt.show()"
   ]
  },
  {
   "cell_type": "code",
   "execution_count": null,
   "id": "7f28afb2",
   "metadata": {},
   "outputs": [],
   "source": [
    "df2= headlines_polarity"
   ]
  },
  {
   "cell_type": "code",
   "execution_count": null,
   "id": "7c3915be",
   "metadata": {},
   "outputs": [],
   "source": [
    "# frequent words visualization for +ve\n",
    "all_words = \" \".join([sentence for sentence in df2['Full_News'][df2['label']==1]])\n",
    "\n",
    "wordcloud = WordCloud(width=800, height=500, random_state=42, max_font_size=100).generate(all_words)\n",
    "\n",
    "# plot the graph\n",
    "plt.figure(figsize=(15,8))\n",
    "plt.imshow(wordcloud, interpolation='bilinear')\n",
    "plt.axis('off')\n",
    "plt.show()"
   ]
  },
  {
   "cell_type": "code",
   "execution_count": null,
   "id": "c55cdcda",
   "metadata": {},
   "outputs": [],
   "source": [
    "# frequent words visualization for -ve\n",
    "all_words = \" \".join([sentence for sentence in df2['Full_News'][df2['label']==-1]])\n",
    "\n",
    "wordcloud = WordCloud(width=800, height=500, random_state=42, max_font_size=100).generate(all_words)\n",
    "\n",
    "# plot the graph\n",
    "plt.figure(figsize=(15,8))\n",
    "plt.imshow(wordcloud, interpolation='bilinear')\n",
    "plt.axis('off')\n",
    "plt.show()"
   ]
  },
  {
   "cell_type": "code",
   "execution_count": null,
   "id": "8d92f399",
   "metadata": {},
   "outputs": [],
   "source": [
    "# frequent words visualization for neutral\n",
    "all_words = \" \".join([sentence for sentence in df2['Full_News'][df2['label']==0]])\n",
    "\n",
    "wordcloud = WordCloud(width=800, height=500, random_state=42, max_font_size=100).generate(all_words)\n",
    "\n",
    "# plot the graph\n",
    "plt.figure(figsize=(15,8))\n",
    "plt.imshow(wordcloud, interpolation='bilinear')\n",
    "plt.axis('off')\n",
    "plt.show()"
   ]
  },
  {
   "cell_type": "code",
   "execution_count": null,
   "id": "59fb344f",
   "metadata": {},
   "outputs": [],
   "source": [
    "# feature extraction\n",
    "from sklearn.feature_extraction.text import CountVectorizer\n",
    "bow_vectorizer = CountVectorizer(max_df=0.90, min_df=5, stop_words='english')\n",
    "bow = bow_vectorizer.fit_transform(headlines_polarity['Full_News'])"
   ]
  },
  {
   "cell_type": "code",
   "execution_count": null,
   "id": "1f0e45a8",
   "metadata": {},
   "outputs": [],
   "source": [
    "from sklearn.model_selection import train_test_split\n",
    "x_train, x_test, y_train, y_test = train_test_split(bow, headlines_polarity['label'], random_state=42, test_size=0.30)"
   ]
  },
  {
   "cell_type": "markdown",
   "id": "491b524e",
   "metadata": {},
   "source": [
    "LR"
   ]
  },
  {
   "cell_type": "code",
   "execution_count": null,
   "id": "e18dc30a",
   "metadata": {},
   "outputs": [],
   "source": [
    "from sklearn.linear_model import LogisticRegression\n",
    "from sklearn.metrics import f1_score, accuracy_score"
   ]
  },
  {
   "cell_type": "code",
   "execution_count": null,
   "id": "eed18982",
   "metadata": {},
   "outputs": [],
   "source": [
    "#LogisticRegression\n",
    "model = LogisticRegression()\n",
    "model.fit(x_train, y_train)"
   ]
  },
  {
   "cell_type": "code",
   "execution_count": null,
   "id": "83b6b86b",
   "metadata": {},
   "outputs": [],
   "source": [
    "pred= model.predict(x_test)"
   ]
  },
  {
   "cell_type": "code",
   "execution_count": null,
   "id": "cbd3bf6f",
   "metadata": {},
   "outputs": [],
   "source": [
    "accuracy_score(y_test,pred)"
   ]
  },
  {
   "cell_type": "code",
   "execution_count": null,
   "id": "89d0e562",
   "metadata": {},
   "outputs": [],
   "source": [
    "from sklearn.metrics import classification_report, confusion_matrix"
   ]
  },
  {
   "cell_type": "code",
   "execution_count": null,
   "id": "372fc90a",
   "metadata": {},
   "outputs": [],
   "source": [
    "print(classification_report(y_test,pred))"
   ]
  },
  {
   "cell_type": "code",
   "execution_count": null,
   "id": "89ee34ce",
   "metadata": {},
   "outputs": [],
   "source": [
    "pred= model.predict(x_test)\n",
    "cm = confusion_matrix(y_test,pred)\n",
    "sns.heatmap(cm, annot = True)"
   ]
  },
  {
   "cell_type": "code",
   "execution_count": null,
   "id": "aa8448ec",
   "metadata": {},
   "outputs": [],
   "source": [
    "cm_df = pd.DataFrame(cm,\n",
    "                     index = ['-1','0','1'], \n",
    "                     columns = ['-1','0','1'])"
   ]
  },
  {
   "cell_type": "code",
   "execution_count": null,
   "id": "8fcae82f",
   "metadata": {},
   "outputs": [],
   "source": [
    "plt.figure(figsize=(5,4))\n",
    "sns.heatmap(cm_df, annot=True)\n",
    "plt.title('Confusion Matrix')\n",
    "plt.ylabel('Actual Values')\n",
    "plt.xlabel('Predicted Values')\n",
    "plt.show()\n"
   ]
  },
  {
   "cell_type": "code",
   "execution_count": null,
   "id": "7ee78991",
   "metadata": {},
   "outputs": [],
   "source": [
    "from sklearn.metrics import roc_curve,auc"
   ]
  },
  {
   "cell_type": "code",
   "execution_count": null,
   "id": "50d6f77b",
   "metadata": {},
   "outputs": [],
   "source": [
    "def plot_roc(y_test, probs): \n",
    "    fpr,tpr, threshold=roc_curve(y_test,probs)\n",
    "    roc_auc=auc(fpr, tpr)\n",
    "    print('ROC AUC=%0.2f'%roc_auc)\n",
    "    plt.plot(fpr, tpr, label='AUC=%0.2f'%roc_auc, color=\"darkorange\")\n",
    "    plt.legend(loc= 'lower right')\n",
    "    plt.plot([0,1], [0,1],'b--')\n",
    "    plt.xlim([0,1])\n",
    "    plt.ylim([0,1.05])\n",
    "    plt.xlabel('False Positive Rate')\n",
    "    plt.ylabel('True Positive Rate')\n",
    "    plt.show() "
   ]
  },
  {
   "cell_type": "code",
   "execution_count": null,
   "id": "e1911269",
   "metadata": {},
   "outputs": [],
   "source": [
    "pred_prob = model.decision_function(x_test)"
   ]
  },
  {
   "cell_type": "markdown",
   "id": "4ad2c46e",
   "metadata": {},
   "source": [
    "NV"
   ]
  },
  {
   "cell_type": "code",
   "execution_count": null,
   "id": "fc2b49c5",
   "metadata": {},
   "outputs": [],
   "source": [
    "#naive bayes\n",
    "from sklearn.naive_bayes import MultinomialNB"
   ]
  },
  {
   "cell_type": "code",
   "execution_count": null,
   "id": "8da9c187",
   "metadata": {},
   "outputs": [],
   "source": [
    "NB_Classifier = MultinomialNB()\n",
    "NB_Classifier.fit(x_train, y_train)"
   ]
  },
  {
   "cell_type": "code",
   "execution_count": null,
   "id": "fd3e9739",
   "metadata": {},
   "outputs": [],
   "source": [
    "pred_nb = NB_Classifier.predict(x_test)"
   ]
  },
  {
   "cell_type": "code",
   "execution_count": null,
   "id": "fea4451e",
   "metadata": {},
   "outputs": [],
   "source": [
    "accuracy_score(y_test, pred_nb)"
   ]
  },
  {
   "cell_type": "code",
   "execution_count": null,
   "id": "8ea26378",
   "metadata": {},
   "outputs": [],
   "source": [
    "print(classification_report(y_test, pred_nb))"
   ]
  },
  {
   "cell_type": "code",
   "execution_count": null,
   "id": "a3d0a8ff",
   "metadata": {},
   "outputs": [],
   "source": [
    "pred_nb = NB_Classifier.predict(x_test)\n",
    "cm = confusion_matrix(y_test,pred_nb)\n",
    "sns.heatmap(cm, annot = True)"
   ]
  },
  {
   "cell_type": "code",
   "execution_count": null,
   "id": "599e3069",
   "metadata": {},
   "outputs": [],
   "source": [
    "cm_df = pd.DataFrame(cm,\n",
    "                     index = ['-1','0','1'], \n",
    "                     columns = ['-1','0','1'])"
   ]
  },
  {
   "cell_type": "code",
   "execution_count": null,
   "id": "a1008917",
   "metadata": {},
   "outputs": [],
   "source": [
    "plt.figure(figsize=(5,4))\n",
    "sns.heatmap(cm_df, annot=True)\n",
    "plt.title('Confusion Matrix')\n",
    "plt.ylabel('Actual Values')\n",
    "plt.xlabel('Predicted Values')\n",
    "plt.show()\n"
   ]
  },
  {
   "cell_type": "code",
   "execution_count": null,
   "id": "8820975c",
   "metadata": {},
   "outputs": [],
   "source": [
    "nb_pred_prob = NB_Classifier.predict_proba(x_test) [:,1]"
   ]
  },
  {
   "cell_type": "markdown",
   "id": "780dab32",
   "metadata": {},
   "source": [
    "SVM"
   ]
  },
  {
   "cell_type": "code",
   "execution_count": null,
   "id": "9f028478",
   "metadata": {},
   "outputs": [],
   "source": [
    "#svm\n",
    "from sklearn import svm\n",
    "from sklearn import metrics"
   ]
  },
  {
   "cell_type": "code",
   "execution_count": null,
   "id": "0fbf1c56",
   "metadata": {},
   "outputs": [],
   "source": [
    "cls = svm.SVC(kernel = \"linear\")"
   ]
  },
  {
   "cell_type": "code",
   "execution_count": null,
   "id": "55400452",
   "metadata": {},
   "outputs": [],
   "source": [
    "cls.fit(x_train, y_train)"
   ]
  },
  {
   "cell_type": "code",
   "execution_count": null,
   "id": "010239ad",
   "metadata": {},
   "outputs": [],
   "source": [
    "pred = cls.predict(x_test)"
   ]
  },
  {
   "cell_type": "code",
   "execution_count": null,
   "id": "bff05427",
   "metadata": {},
   "outputs": [],
   "source": [
    "print(\"accuracy:\", metrics.accuracy_score(y_test,y_pred = pred))"
   ]
  },
  {
   "cell_type": "code",
   "execution_count": null,
   "id": "e4d1a37a",
   "metadata": {},
   "outputs": [],
   "source": [
    "print(classification_report(y_test, pred))"
   ]
  },
  {
   "cell_type": "code",
   "execution_count": null,
   "id": "4cba9a23",
   "metadata": {},
   "outputs": [],
   "source": [
    "y_pred= cls.predict(x_test)\n",
    "cm = confusion_matrix(y_test,y_pred)\n",
    "sns.heatmap(cm, annot = True)"
   ]
  },
  {
   "cell_type": "code",
   "execution_count": null,
   "id": "ed415685",
   "metadata": {},
   "outputs": [],
   "source": [
    "cm_df = pd.DataFrame(cm,\n",
    "                     index = ['-1','0','1'], \n",
    "                     columns = ['-1','0','1'])"
   ]
  },
  {
   "cell_type": "code",
   "execution_count": null,
   "id": "0cb6265c",
   "metadata": {},
   "outputs": [],
   "source": [
    "plt.figure(figsize=(5,4))\n",
    "sns.heatmap(cm_df, annot=True)\n",
    "plt.title('Confusion Matrix')\n",
    "plt.ylabel('Actual Values')\n",
    "plt.xlabel('Predicted Values')\n",
    "plt.show()\n"
   ]
  },
  {
   "cell_type": "code",
   "execution_count": null,
   "id": "76126f8b",
   "metadata": {},
   "outputs": [],
   "source": [
    "prob_y_pred= cls.decision_function(x_test)"
   ]
  },
  {
   "cell_type": "markdown",
   "id": "c943112e",
   "metadata": {},
   "source": [
    "SVC"
   ]
  },
  {
   "cell_type": "code",
   "execution_count": null,
   "id": "eb22664b",
   "metadata": {},
   "outputs": [],
   "source": [
    "#LinearSVC\n",
    "from sklearn.svm import LinearSVC"
   ]
  },
  {
   "cell_type": "code",
   "execution_count": null,
   "id": "fe47f5ed",
   "metadata": {},
   "outputs": [],
   "source": [
    "SVCmodel = LinearSVC()\n",
    "SVCmodel.fit(x_train, y_train)"
   ]
  },
  {
   "cell_type": "code",
   "execution_count": null,
   "id": "c41abf5b",
   "metadata": {},
   "outputs": [],
   "source": [
    "svc_pred = SVCmodel.predict(x_test)\n",
    "svc_acc = accuracy_score(svc_pred, y_test)\n",
    "print(svc_acc)"
   ]
  },
  {
   "cell_type": "code",
   "execution_count": null,
   "id": "972dd4dd",
   "metadata": {},
   "outputs": [],
   "source": [
    "print(\"test accuracy:  {: .2f}%\" .format(svc_acc*100))"
   ]
  },
  {
   "cell_type": "code",
   "execution_count": null,
   "id": "55343c57",
   "metadata": {},
   "outputs": [],
   "source": [
    "print(classification_report(y_test,svc_pred))"
   ]
  },
  {
   "cell_type": "code",
   "execution_count": null,
   "id": "3084c051",
   "metadata": {},
   "outputs": [],
   "source": [
    "cm = confusion_matrix(y_test,svc_pred)\n",
    "sns.heatmap(cm, annot = True)"
   ]
  },
  {
   "cell_type": "code",
   "execution_count": null,
   "id": "79582c7d",
   "metadata": {},
   "outputs": [],
   "source": [
    "cm_df = pd.DataFrame(cm,\n",
    "                     index = ['-1','0','1'], \n",
    "                     columns = ['-1','0','1'])"
   ]
  },
  {
   "cell_type": "code",
   "execution_count": null,
   "id": "82dd88b5",
   "metadata": {},
   "outputs": [],
   "source": [
    "plt.figure(figsize=(5,4))\n",
    "sns.heatmap(cm_df, annot=True)\n",
    "plt.title('Confusion Matrix')\n",
    "plt.ylabel('Actual Values')\n",
    "plt.xlabel('Predicted Values')\n",
    "plt.show()"
   ]
  },
  {
   "cell_type": "code",
   "execution_count": null,
   "id": "3a12ddc7",
   "metadata": {},
   "outputs": [],
   "source": [
    "svc_pred_prob = SVCmodel.decision_function(x_test)"
   ]
  },
  {
   "cell_type": "code",
   "execution_count": null,
   "id": "087378cc",
   "metadata": {},
   "outputs": [],
   "source": [
    "plot_roc(y_test, svc_pred_prob)"
   ]
  },
  {
   "cell_type": "code",
   "execution_count": null,
   "id": "8a916882",
   "metadata": {},
   "outputs": [],
   "source": []
  },
  {
   "cell_type": "code",
   "execution_count": null,
   "id": "18c795de",
   "metadata": {},
   "outputs": [],
   "source": []
  },
  {
   "cell_type": "markdown",
   "id": "a92b9301",
   "metadata": {},
   "source": [
    "RF"
   ]
  },
  {
   "cell_type": "code",
   "execution_count": null,
   "id": "7ebac6e1",
   "metadata": {},
   "outputs": [],
   "source": [
    "from sklearn.ensemble import  RandomForestClassifier"
   ]
  },
  {
   "cell_type": "code",
   "execution_count": null,
   "id": "3798f32f",
   "metadata": {},
   "outputs": [],
   "source": [
    "rf=RandomForestClassifier()\n",
    "rf.fit(x_train, y_train) \n",
    "pred_rf=rf.predict(x_test) "
   ]
  },
  {
   "cell_type": "code",
   "execution_count": null,
   "id": "04bcf5c6",
   "metadata": {},
   "outputs": [],
   "source": [
    "rf_acc = accuracy_score(pred_rf, y_test)\n",
    "print(rf_acc)"
   ]
  },
  {
   "cell_type": "code",
   "execution_count": null,
   "id": "92850ec8",
   "metadata": {},
   "outputs": [],
   "source": [
    "print(classification_report(y_test,pred_rf))"
   ]
  },
  {
   "cell_type": "code",
   "execution_count": null,
   "id": "0a60c098",
   "metadata": {},
   "outputs": [],
   "source": [
    "pred_rf= rf.predict(x_test)\n",
    "cm = confusion_matrix(y_test,pred_rf)\n",
    "sns.heatmap(cm, annot = True)"
   ]
  },
  {
   "cell_type": "code",
   "execution_count": null,
   "id": "0409d661",
   "metadata": {},
   "outputs": [],
   "source": [
    "cm_df = pd.DataFrame(cm,\n",
    "                     index = ['-1','0','1'], \n",
    "                     columns = ['-1','0','1'])"
   ]
  },
  {
   "cell_type": "code",
   "execution_count": null,
   "id": "0bcdef76",
   "metadata": {},
   "outputs": [],
   "source": [
    "plt.figure(figsize=(5,4))\n",
    "sns.heatmap(cm_df, annot=True)\n",
    "plt.title('Confusion Matrix')\n",
    "plt.ylabel('Actual Values')\n",
    "plt.xlabel('Predicted Values')\n",
    "plt.show()\n"
   ]
  },
  {
   "cell_type": "code",
   "execution_count": null,
   "id": "a6d23425",
   "metadata": {},
   "outputs": [],
   "source": [
    "prob_rf= rf.predict_proba(x_test) [:,1]"
   ]
  },
  {
   "cell_type": "code",
   "execution_count": null,
   "id": "6a7bc814",
   "metadata": {},
   "outputs": [],
   "source": [
    "plot_roc(y_test, prob_rf)"
   ]
  },
  {
   "cell_type": "markdown",
   "id": "fbe28b09",
   "metadata": {},
   "source": [
    "KNN"
   ]
  },
  {
   "cell_type": "code",
   "execution_count": null,
   "id": "a0438b44",
   "metadata": {},
   "outputs": [],
   "source": [
    "from sklearn.neighbors import KNeighborsClassifier"
   ]
  },
  {
   "cell_type": "code",
   "execution_count": null,
   "id": "cfcdb4d8",
   "metadata": {},
   "outputs": [],
   "source": [
    "knn = KNeighborsClassifier(n_neighbors=5, metric='euclidean')\n",
    "knn.fit(x_train, y_train)"
   ]
  },
  {
   "cell_type": "code",
   "execution_count": null,
   "id": "2b6e9f08",
   "metadata": {},
   "outputs": [],
   "source": [
    "y_pred_knn = knn.predict(x_test)"
   ]
  },
  {
   "cell_type": "code",
   "execution_count": null,
   "id": "f2eebac7",
   "metadata": {},
   "outputs": [],
   "source": [
    "knn_acc = accuracy_score(y_pred_knn, y_test)\n",
    "print(knn_acc)"
   ]
  },
  {
   "cell_type": "code",
   "execution_count": null,
   "id": "c9ed1e05",
   "metadata": {},
   "outputs": [],
   "source": [
    "print(classification_report(y_test,y_pred_knn))"
   ]
  },
  {
   "cell_type": "code",
   "execution_count": null,
   "id": "582dbb2a",
   "metadata": {},
   "outputs": [],
   "source": [
    "\n",
    "cm = confusion_matrix(y_test,y_pred_knn)\n"
   ]
  },
  {
   "cell_type": "code",
   "execution_count": null,
   "id": "6b1adb0d",
   "metadata": {},
   "outputs": [],
   "source": [
    "cm_df = pd.DataFrame(cm,\n",
    "                     index = ['-1','0','1'], \n",
    "                     columns = ['-1','0','1'])"
   ]
  },
  {
   "cell_type": "code",
   "execution_count": null,
   "id": "95de79ed",
   "metadata": {},
   "outputs": [],
   "source": [
    "plt.figure(figsize=(5,4))\n",
    "sns.heatmap(cm_df, annot=True)\n",
    "plt.title('Confusion Matrix')\n",
    "plt.ylabel('Actual Values')\n",
    "plt.xlabel('Predicted Values')\n",
    "plt.show()\n"
   ]
  },
  {
   "cell_type": "code",
   "execution_count": null,
   "id": "d3317404",
   "metadata": {},
   "outputs": [],
   "source": [
    "prob_knn = knn.predict_proba(x_test) [:,1]"
   ]
  },
  {
   "cell_type": "code",
   "execution_count": null,
   "id": "377283df",
   "metadata": {},
   "outputs": [],
   "source": [
    "plot_roc(y_test, prob_knn)"
   ]
  }
 ],
 "metadata": {
  "kernelspec": {
   "display_name": "Python 3 (ipykernel)",
   "language": "python",
   "name": "python3"
  },
  "language_info": {
   "codemirror_mode": {
    "name": "ipython",
    "version": 3
   },
   "file_extension": ".py",
   "mimetype": "text/x-python",
   "name": "python",
   "nbconvert_exporter": "python",
   "pygments_lexer": "ipython3",
   "version": "3.9.12"
  }
 },
 "nbformat": 4,
 "nbformat_minor": 5
}
